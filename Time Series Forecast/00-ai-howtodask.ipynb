{
 "cells": [
  {
   "cell_type": "markdown",
   "metadata": {},
   "source": [
    "#### This is a trial of Dask Client Usage. We have 32 GB DataSet but 16 GB Ram. Therefore we can use Paralellism Concept with Dask not to overload Ram."
   ]
  },
  {
   "cell_type": "code",
   "execution_count": 1,
   "metadata": {},
   "outputs": [],
   "source": [
    "import pandas as pd\n",
    "from dask import dataframe as dd\n",
    "from dask.distributed import Client, progress"
   ]
  },
  {
   "cell_type": "code",
   "execution_count": 19,
   "metadata": {},
   "outputs": [],
   "source": [
    "from datetime import datetime"
   ]
  },
  {
   "cell_type": "markdown",
   "metadata": {},
   "source": [
    "#### A Dask DataFrame is a large parallel DataFrame composed of many smaller Pandas DataFrames, split along the index. These Pandas DataFrames may live on disk for larger-than-memory computing on a single machine, or on many different machines in a cluster. One Dask DataFrame operation triggers many operations on the constituent Pandas DataFrames."
   ]
  },
  {
   "cell_type": "code",
   "execution_count": 2,
   "metadata": {},
   "outputs": [
    {
     "data": {
      "text/html": [
       "<div>\n",
       "    <div style=\"width: 24px; height: 24px; background-color: #e1e1e1; border: 3px solid #9D9D9D; border-radius: 5px; position: absolute;\"> </div>\n",
       "    <div style=\"margin-left: 48px;\">\n",
       "        <h3 style=\"margin-bottom: 0px;\">Client</h3>\n",
       "        <p style=\"color: #9D9D9D; margin-bottom: 0px;\">Client-00a7efec-510d-11ec-badc-803253776946</p>\n",
       "        <table style=\"width: 100%; text-align: left;\">\n",
       "\n",
       "        <tr>\n",
       "        \n",
       "            <td style=\"text-align: left;\"><strong>Connection method:</strong> Cluster object</td>\n",
       "            <td style=\"text-align: left;\"><strong>Cluster type:</strong> distributed.LocalCluster</td>\n",
       "        \n",
       "        </tr>\n",
       "\n",
       "        \n",
       "            <tr>\n",
       "                <td style=\"text-align: left;\">\n",
       "                    <strong>Dashboard: </strong> <a href=\"http://127.0.0.1:8787/status\" target=\"_blank\">http://127.0.0.1:8787/status</a>\n",
       "                </td>\n",
       "                <td style=\"text-align: left;\"></td>\n",
       "            </tr>\n",
       "        \n",
       "\n",
       "        </table>\n",
       "\n",
       "        \n",
       "            <details>\n",
       "            <summary style=\"margin-bottom: 20px;\"><h3 style=\"display: inline;\">Cluster Info</h3></summary>\n",
       "            <div class=\"jp-RenderedHTMLCommon jp-RenderedHTML jp-mod-trusted jp-OutputArea-output\">\n",
       "    <div style=\"width: 24px; height: 24px; background-color: #e1e1e1; border: 3px solid #9D9D9D; border-radius: 5px; position: absolute;\">\n",
       "    </div>\n",
       "    <div style=\"margin-left: 48px;\">\n",
       "        <h3 style=\"margin-bottom: 0px; margin-top: 0px;\">LocalCluster</h3>\n",
       "        <p style=\"color: #9D9D9D; margin-bottom: 0px;\">fbacbe94</p>\n",
       "        <table style=\"width: 100%; text-align: left;\">\n",
       "            <tr>\n",
       "                <td style=\"text-align: left;\">\n",
       "                    <strong>Dashboard:</strong> <a href=\"http://127.0.0.1:8787/status\" target=\"_blank\">http://127.0.0.1:8787/status</a>\n",
       "                </td>\n",
       "                <td style=\"text-align: left;\">\n",
       "                    <strong>Workers:</strong> 4\n",
       "                </td>\n",
       "            </tr>\n",
       "            <tr>\n",
       "                <td style=\"text-align: left;\">\n",
       "                    <strong>Total threads:</strong> 8\n",
       "                </td>\n",
       "                <td style=\"text-align: left;\">\n",
       "                    <strong>Total memory:</strong> 15.75 GiB\n",
       "                </td>\n",
       "            </tr>\n",
       "            \n",
       "            <tr>\n",
       "    <td style=\"text-align: left;\"><strong>Status:</strong> running</td>\n",
       "    <td style=\"text-align: left;\"><strong>Using processes:</strong> True</td>\n",
       "</tr>\n",
       "\n",
       "            \n",
       "        </table>\n",
       "\n",
       "        <details>\n",
       "            <summary style=\"margin-bottom: 20px;\">\n",
       "                <h3 style=\"display: inline;\">Scheduler Info</h3>\n",
       "            </summary>\n",
       "\n",
       "            <div style=\"\">\n",
       "    <div>\n",
       "        <div style=\"width: 24px; height: 24px; background-color: #FFF7E5; border: 3px solid #FF6132; border-radius: 5px; position: absolute;\"> </div>\n",
       "        <div style=\"margin-left: 48px;\">\n",
       "            <h3 style=\"margin-bottom: 0px;\">Scheduler</h3>\n",
       "            <p style=\"color: #9D9D9D; margin-bottom: 0px;\">Scheduler-0cee7459-c70a-4ec1-bfb3-de3704d4279d</p>\n",
       "            <table style=\"width: 100%; text-align: left;\">\n",
       "                <tr>\n",
       "                    <td style=\"text-align: left;\">\n",
       "                        <strong>Comm:</strong> tcp://127.0.0.1:57692\n",
       "                    </td>\n",
       "                    <td style=\"text-align: left;\">\n",
       "                        <strong>Workers:</strong> 4\n",
       "                    </td>\n",
       "                </tr>\n",
       "                <tr>\n",
       "                    <td style=\"text-align: left;\">\n",
       "                        <strong>Dashboard:</strong> <a href=\"http://127.0.0.1:8787/status\" target=\"_blank\">http://127.0.0.1:8787/status</a>\n",
       "                    </td>\n",
       "                    <td style=\"text-align: left;\">\n",
       "                        <strong>Total threads:</strong> 8\n",
       "                    </td>\n",
       "                </tr>\n",
       "                <tr>\n",
       "                    <td style=\"text-align: left;\">\n",
       "                        <strong>Started:</strong> Just now\n",
       "                    </td>\n",
       "                    <td style=\"text-align: left;\">\n",
       "                        <strong>Total memory:</strong> 15.75 GiB\n",
       "                    </td>\n",
       "                </tr>\n",
       "            </table>\n",
       "        </div>\n",
       "    </div>\n",
       "\n",
       "    <details style=\"margin-left: 48px;\">\n",
       "        <summary style=\"margin-bottom: 20px;\">\n",
       "            <h3 style=\"display: inline;\">Workers</h3>\n",
       "        </summary>\n",
       "\n",
       "        \n",
       "        <div style=\"margin-bottom: 20px;\">\n",
       "            <div style=\"width: 24px; height: 24px; background-color: #DBF5FF; border: 3px solid #4CC9FF; border-radius: 5px; position: absolute;\"> </div>\n",
       "            <div style=\"margin-left: 48px;\">\n",
       "            <details>\n",
       "                <summary>\n",
       "                    <h4 style=\"margin-bottom: 0px; display: inline;\">Worker: 0</h4>\n",
       "                </summary>\n",
       "                <table style=\"width: 100%; text-align: left;\">\n",
       "                    <tr>\n",
       "                        <td style=\"text-align: left;\">\n",
       "                            <strong>Comm: </strong> tcp://127.0.0.1:57718\n",
       "                        </td>\n",
       "                        <td style=\"text-align: left;\">\n",
       "                            <strong>Total threads: </strong> 2\n",
       "                        </td>\n",
       "                    </tr>\n",
       "                    <tr>\n",
       "                        <td style=\"text-align: left;\">\n",
       "                            <strong>Dashboard: </strong> <a href=\"http://127.0.0.1:57720/status\" target=\"_blank\">http://127.0.0.1:57720/status</a>\n",
       "                        </td>\n",
       "                        <td style=\"text-align: left;\">\n",
       "                            <strong>Memory: </strong> 3.94 GiB\n",
       "                        </td>\n",
       "                    </tr>\n",
       "                    <tr>\n",
       "                        <td style=\"text-align: left;\">\n",
       "                            <strong>Nanny: </strong> tcp://127.0.0.1:57697\n",
       "                        </td>\n",
       "                        <td style=\"text-align: left;\"></td>\n",
       "                    </tr>\n",
       "                    <tr>\n",
       "                        <td colspan=\"2\" style=\"text-align: left;\">\n",
       "                            <strong>Local directory: </strong> C:\\Users\\AliYilmaz\\OneDrive - fino run GmbH\\Dokumente\\Projects\\INFINA\\4thDatenAustausch\\infina-export\\infina_transactions\\dask-worker-space\\worker-uz_jtoe9\n",
       "                        </td>\n",
       "                    </tr>\n",
       "\n",
       "                    \n",
       "\n",
       "                    \n",
       "\n",
       "                </table>\n",
       "            </details>\n",
       "            </div>\n",
       "        </div>\n",
       "        \n",
       "        <div style=\"margin-bottom: 20px;\">\n",
       "            <div style=\"width: 24px; height: 24px; background-color: #DBF5FF; border: 3px solid #4CC9FF; border-radius: 5px; position: absolute;\"> </div>\n",
       "            <div style=\"margin-left: 48px;\">\n",
       "            <details>\n",
       "                <summary>\n",
       "                    <h4 style=\"margin-bottom: 0px; display: inline;\">Worker: 1</h4>\n",
       "                </summary>\n",
       "                <table style=\"width: 100%; text-align: left;\">\n",
       "                    <tr>\n",
       "                        <td style=\"text-align: left;\">\n",
       "                            <strong>Comm: </strong> tcp://127.0.0.1:57728\n",
       "                        </td>\n",
       "                        <td style=\"text-align: left;\">\n",
       "                            <strong>Total threads: </strong> 2\n",
       "                        </td>\n",
       "                    </tr>\n",
       "                    <tr>\n",
       "                        <td style=\"text-align: left;\">\n",
       "                            <strong>Dashboard: </strong> <a href=\"http://127.0.0.1:57729/status\" target=\"_blank\">http://127.0.0.1:57729/status</a>\n",
       "                        </td>\n",
       "                        <td style=\"text-align: left;\">\n",
       "                            <strong>Memory: </strong> 3.94 GiB\n",
       "                        </td>\n",
       "                    </tr>\n",
       "                    <tr>\n",
       "                        <td style=\"text-align: left;\">\n",
       "                            <strong>Nanny: </strong> tcp://127.0.0.1:57698\n",
       "                        </td>\n",
       "                        <td style=\"text-align: left;\"></td>\n",
       "                    </tr>\n",
       "                    <tr>\n",
       "                        <td colspan=\"2\" style=\"text-align: left;\">\n",
       "                            <strong>Local directory: </strong> C:\\Users\\AliYilmaz\\OneDrive - fino run GmbH\\Dokumente\\Projects\\INFINA\\4thDatenAustausch\\infina-export\\infina_transactions\\dask-worker-space\\worker-jjt74sms\n",
       "                        </td>\n",
       "                    </tr>\n",
       "\n",
       "                    \n",
       "\n",
       "                    \n",
       "\n",
       "                </table>\n",
       "            </details>\n",
       "            </div>\n",
       "        </div>\n",
       "        \n",
       "        <div style=\"margin-bottom: 20px;\">\n",
       "            <div style=\"width: 24px; height: 24px; background-color: #DBF5FF; border: 3px solid #4CC9FF; border-radius: 5px; position: absolute;\"> </div>\n",
       "            <div style=\"margin-left: 48px;\">\n",
       "            <details>\n",
       "                <summary>\n",
       "                    <h4 style=\"margin-bottom: 0px; display: inline;\">Worker: 2</h4>\n",
       "                </summary>\n",
       "                <table style=\"width: 100%; text-align: left;\">\n",
       "                    <tr>\n",
       "                        <td style=\"text-align: left;\">\n",
       "                            <strong>Comm: </strong> tcp://127.0.0.1:57721\n",
       "                        </td>\n",
       "                        <td style=\"text-align: left;\">\n",
       "                            <strong>Total threads: </strong> 2\n",
       "                        </td>\n",
       "                    </tr>\n",
       "                    <tr>\n",
       "                        <td style=\"text-align: left;\">\n",
       "                            <strong>Dashboard: </strong> <a href=\"http://127.0.0.1:57723/status\" target=\"_blank\">http://127.0.0.1:57723/status</a>\n",
       "                        </td>\n",
       "                        <td style=\"text-align: left;\">\n",
       "                            <strong>Memory: </strong> 3.94 GiB\n",
       "                        </td>\n",
       "                    </tr>\n",
       "                    <tr>\n",
       "                        <td style=\"text-align: left;\">\n",
       "                            <strong>Nanny: </strong> tcp://127.0.0.1:57696\n",
       "                        </td>\n",
       "                        <td style=\"text-align: left;\"></td>\n",
       "                    </tr>\n",
       "                    <tr>\n",
       "                        <td colspan=\"2\" style=\"text-align: left;\">\n",
       "                            <strong>Local directory: </strong> C:\\Users\\AliYilmaz\\OneDrive - fino run GmbH\\Dokumente\\Projects\\INFINA\\4thDatenAustausch\\infina-export\\infina_transactions\\dask-worker-space\\worker-cytafneb\n",
       "                        </td>\n",
       "                    </tr>\n",
       "\n",
       "                    \n",
       "\n",
       "                    \n",
       "\n",
       "                </table>\n",
       "            </details>\n",
       "            </div>\n",
       "        </div>\n",
       "        \n",
       "        <div style=\"margin-bottom: 20px;\">\n",
       "            <div style=\"width: 24px; height: 24px; background-color: #DBF5FF; border: 3px solid #4CC9FF; border-radius: 5px; position: absolute;\"> </div>\n",
       "            <div style=\"margin-left: 48px;\">\n",
       "            <details>\n",
       "                <summary>\n",
       "                    <h4 style=\"margin-bottom: 0px; display: inline;\">Worker: 3</h4>\n",
       "                </summary>\n",
       "                <table style=\"width: 100%; text-align: left;\">\n",
       "                    <tr>\n",
       "                        <td style=\"text-align: left;\">\n",
       "                            <strong>Comm: </strong> tcp://127.0.0.1:57725\n",
       "                        </td>\n",
       "                        <td style=\"text-align: left;\">\n",
       "                            <strong>Total threads: </strong> 2\n",
       "                        </td>\n",
       "                    </tr>\n",
       "                    <tr>\n",
       "                        <td style=\"text-align: left;\">\n",
       "                            <strong>Dashboard: </strong> <a href=\"http://127.0.0.1:57726/status\" target=\"_blank\">http://127.0.0.1:57726/status</a>\n",
       "                        </td>\n",
       "                        <td style=\"text-align: left;\">\n",
       "                            <strong>Memory: </strong> 3.94 GiB\n",
       "                        </td>\n",
       "                    </tr>\n",
       "                    <tr>\n",
       "                        <td style=\"text-align: left;\">\n",
       "                            <strong>Nanny: </strong> tcp://127.0.0.1:57695\n",
       "                        </td>\n",
       "                        <td style=\"text-align: left;\"></td>\n",
       "                    </tr>\n",
       "                    <tr>\n",
       "                        <td colspan=\"2\" style=\"text-align: left;\">\n",
       "                            <strong>Local directory: </strong> C:\\Users\\AliYilmaz\\OneDrive - fino run GmbH\\Dokumente\\Projects\\INFINA\\4thDatenAustausch\\infina-export\\infina_transactions\\dask-worker-space\\worker-ysiw26c0\n",
       "                        </td>\n",
       "                    </tr>\n",
       "\n",
       "                    \n",
       "\n",
       "                    \n",
       "\n",
       "                </table>\n",
       "            </details>\n",
       "            </div>\n",
       "        </div>\n",
       "        \n",
       "\n",
       "    </details>\n",
       "</div>\n",
       "\n",
       "        </details>\n",
       "    </div>\n",
       "</div>\n",
       "            </details>\n",
       "        \n",
       "\n",
       "    </div>\n",
       "</div>"
      ],
      "text/plain": [
       "<Client: 'tcp://127.0.0.1:57692' processes=4 threads=8, memory=15.75 GiB>"
      ]
     },
     "execution_count": 2,
     "metadata": {},
     "output_type": "execute_result"
    }
   ],
   "source": [
    "c = Client()\n",
    "c"
   ]
  },
  {
   "cell_type": "code",
   "execution_count": 10,
   "metadata": {},
   "outputs": [],
   "source": [
    "dfd_14 = dd.read_csv('infina-export-2021-11-08-batch_*.csv')"
   ]
  },
  {
   "cell_type": "code",
   "execution_count": 36,
   "metadata": {},
   "outputs": [
    {
     "data": {
      "text/plain": [
       "Index(['idx', 'id', 'currency', 'mref', 'transactionCode',\n",
       "       'payment_partner_name', 'payment_partner_creditorId',\n",
       "       'payment_partner_Iban', 'payment_partner_bic', 'bookingDate', 'purpose',\n",
       "       'tags', 'amount', 'userId'],\n",
       "      dtype='object')"
      ]
     },
     "execution_count": 36,
     "metadata": {},
     "output_type": "execute_result"
    }
   ],
   "source": [
    "dfd_14.columns"
   ]
  },
  {
   "cell_type": "code",
   "execution_count": 37,
   "metadata": {},
   "outputs": [
    {
     "data": {
      "text/plain": [
       "(Delayed('int-c09bbe29-c795-4592-b65e-17cb59ed1981'), 14)"
      ]
     },
     "execution_count": 37,
     "metadata": {},
     "output_type": "execute_result"
    }
   ],
   "source": [
    "dfd_14.shape"
   ]
  },
  {
   "cell_type": "code",
   "execution_count": 6,
   "metadata": {},
   "outputs": [],
   "source": [
    "# dfd_3"
   ]
  },
  {
   "cell_type": "code",
   "execution_count": 7,
   "metadata": {
    "tags": []
   },
   "outputs": [
    {
     "name": "stdout",
     "output_type": "stream",
     "text": [
      "Wall time: 9min 51s\n"
     ]
    },
    {
     "data": {
      "text/plain": [
       "userId\n",
       "bankloginid.606ed645ceb33961b7e8f0bb   -54268055.46\n",
       "60d1f26901ffc90396a4249a               -20820257.21\n",
       "bankloginid.5fd0ede9e4f2a945b4f4a857   -19461712.24\n",
       "af3217c0-49e5-4d28-a42b-01e54f3be6c0   -18337451.62\n",
       "3c9904ac-9b0e-4e42-9615-682e814108ea   -16122464.17\n",
       "                                           ...     \n",
       "bankloginid.5ea1a232bfe80500011a7ba2    31328906.28\n",
       "bankloginid.5e996f75745fae00011ab79c    31406280.05\n",
       "bankloginid.5e96cc08e6585700014802b1    31470398.58\n",
       "bankloginid.5e9809ffbfe80500011a4a70    31525547.27\n",
       "bankloginid.5e96bf76e658570001480230    31542084.03\n",
       "Name: amount, Length: 75817, dtype: float64"
      ]
     },
     "execution_count": 7,
     "metadata": {},
     "output_type": "execute_result"
    }
   ],
   "source": [
    "# %time dfd_3.groupby(\"userId\")[\"amount\"].sum().compute().sort_values()"
   ]
  },
  {
   "cell_type": "code",
   "execution_count": 46,
   "metadata": {},
   "outputs": [
    {
     "name": "stdout",
     "output_type": "stream",
     "text": [
      "Wall time: 42.5 ms\n"
     ]
    }
   ],
   "source": [
    "%time dfd_5 = dfd_14[['bookingDate', 'purpose','tags', 'amount', 'userId']]"
   ]
  },
  {
   "cell_type": "code",
   "execution_count": 47,
   "metadata": {},
   "outputs": [
    {
     "data": {
      "text/html": [
       "<div>\n",
       "<style scoped>\n",
       "    .dataframe tbody tr th:only-of-type {\n",
       "        vertical-align: middle;\n",
       "    }\n",
       "\n",
       "    .dataframe tbody tr th {\n",
       "        vertical-align: top;\n",
       "    }\n",
       "\n",
       "    .dataframe thead th {\n",
       "        text-align: right;\n",
       "    }\n",
       "</style>\n",
       "<table border=\"1\" class=\"dataframe\">\n",
       "  <thead>\n",
       "    <tr style=\"text-align: right;\">\n",
       "      <th></th>\n",
       "      <th>bookingDate</th>\n",
       "      <th>purpose</th>\n",
       "      <th>tags</th>\n",
       "      <th>amount</th>\n",
       "      <th>userId</th>\n",
       "    </tr>\n",
       "  </thead>\n",
       "  <tbody>\n",
       "    <tr>\n",
       "      <th>0</th>\n",
       "      <td>1534294861</td>\n",
       "      <td>Kartenzahlung &lt;&lt;FIRST_NAME=ab25627f0022499b0d3...</td>\n",
       "      <td>card_payment,spending,mobility,car,car_fuel,fi...</td>\n",
       "      <td>-47.99</td>\n",
       "      <td>bankloginid.60502bc3c395af21ec04b3e8</td>\n",
       "    </tr>\n",
       "    <tr>\n",
       "      <th>1</th>\n",
       "      <td>1607040000</td>\n",
       "      <td>STAR TST/BREMEN/DE 03.12.2020 um 21:04:18 Uhr ...</td>\n",
       "      <td>card_payment,spending,mobility,car,car_fuel,fi...</td>\n",
       "      <td>-49.37</td>\n",
       "      <td>60267b72afc354135d9bbd73</td>\n",
       "    </tr>\n",
       "    <tr>\n",
       "      <th>2</th>\n",
       "      <td>1571184000</td>\n",
       "      <td>2019-10-15T19:51 Debitk.0 2021-12 KARTENZAHLUNG</td>\n",
       "      <td>card_payment,spending,variabel</td>\n",
       "      <td>-17.15</td>\n",
       "      <td>6094f2f2fcac366879c1a810</td>\n",
       "    </tr>\n",
       "    <tr>\n",
       "      <th>3</th>\n",
       "      <td>1557705600</td>\n",
       "      <td>2019-05-11T14:39 Debitk.2 2022-12 KARTENZAHLUNG</td>\n",
       "      <td>card_payment,spending,variabel</td>\n",
       "      <td>-106.96</td>\n",
       "      <td>60bf47a86b6759357385e6d9</td>\n",
       "    </tr>\n",
       "    <tr>\n",
       "      <th>4</th>\n",
       "      <td>1622592000</td>\n",
       "      <td>KARTENZAHLUNG 2021-06-01T15:45 Debitk.2 2024-1...</td>\n",
       "      <td>card_payment,spending,household,household_fash...</td>\n",
       "      <td>-41.96</td>\n",
       "      <td>60be2816b92620310a5e5ca0</td>\n",
       "    </tr>\n",
       "  </tbody>\n",
       "</table>\n",
       "</div>"
      ],
      "text/plain": [
       "   bookingDate                                            purpose  \\\n",
       "0   1534294861  Kartenzahlung <<FIRST_NAME=ab25627f0022499b0d3...   \n",
       "1   1607040000  STAR TST/BREMEN/DE 03.12.2020 um 21:04:18 Uhr ...   \n",
       "2   1571184000    2019-10-15T19:51 Debitk.0 2021-12 KARTENZAHLUNG   \n",
       "3   1557705600    2019-05-11T14:39 Debitk.2 2022-12 KARTENZAHLUNG   \n",
       "4   1622592000  KARTENZAHLUNG 2021-06-01T15:45 Debitk.2 2024-1...   \n",
       "\n",
       "                                                tags  amount  \\\n",
       "0  card_payment,spending,mobility,car,car_fuel,fi...  -47.99   \n",
       "1  card_payment,spending,mobility,car,car_fuel,fi...  -49.37   \n",
       "2                     card_payment,spending,variabel  -17.15   \n",
       "3                     card_payment,spending,variabel -106.96   \n",
       "4  card_payment,spending,household,household_fash...  -41.96   \n",
       "\n",
       "                                 userId  \n",
       "0  bankloginid.60502bc3c395af21ec04b3e8  \n",
       "1              60267b72afc354135d9bbd73  \n",
       "2              6094f2f2fcac366879c1a810  \n",
       "3              60bf47a86b6759357385e6d9  \n",
       "4              60be2816b92620310a5e5ca0  "
      ]
     },
     "execution_count": 47,
     "metadata": {},
     "output_type": "execute_result"
    }
   ],
   "source": [
    "dfd_5.head()"
   ]
  },
  {
   "cell_type": "code",
   "execution_count": 34,
   "metadata": {},
   "outputs": [
    {
     "data": {
      "text/plain": [
       "(Delayed('int-426d9dee-0c00-4381-b07b-8829c5209245'), 5)"
      ]
     },
     "execution_count": 34,
     "metadata": {},
     "output_type": "execute_result"
    }
   ],
   "source": [
    "dfd_5.shape"
   ]
  },
  {
   "cell_type": "markdown",
   "metadata": {},
   "source": [
    "### How many users are there?"
   ]
  },
  {
   "cell_type": "code",
   "execution_count": 18,
   "metadata": {},
   "outputs": [
    {
     "data": {
      "text/plain": [
       "75817"
      ]
     },
     "execution_count": 18,
     "metadata": {},
     "output_type": "execute_result"
    }
   ],
   "source": [
    "dfd_5['userId'].nunique().compute()  # 4m30s"
   ]
  },
  {
   "cell_type": "code",
   "execution_count": 18,
   "metadata": {
    "collapsed": true,
    "jupyter": {
     "outputs_hidden": true
    },
    "tags": []
   },
   "outputs": [
    {
     "name": "stdout",
     "output_type": "stream",
     "text": [
      "Wall time: 7min 37s\n"
     ]
    },
    {
     "data": {
      "text/plain": [
       "userId\n",
       "bankloginid.606ed645ceb33961b7e8f0bb   -54268055.46\n",
       "60d1f26901ffc90396a4249a               -20820257.21\n",
       "bankloginid.5fd0ede9e4f2a945b4f4a857   -19461712.24\n",
       "af3217c0-49e5-4d28-a42b-01e54f3be6c0   -18337451.62\n",
       "3c9904ac-9b0e-4e42-9615-682e814108ea   -16122464.17\n",
       "                                           ...     \n",
       "bankloginid.5ea1a232bfe80500011a7ba2    31328906.28\n",
       "bankloginid.5e996f75745fae00011ab79c    31406280.05\n",
       "bankloginid.5e96cc08e6585700014802b1    31470398.58\n",
       "bankloginid.5e9809ffbfe80500011a4a70    31525547.27\n",
       "bankloginid.5e96bf76e658570001480230    31542084.03\n",
       "Name: amount, Length: 75817, dtype: float64"
      ]
     },
     "execution_count": 18,
     "metadata": {},
     "output_type": "execute_result"
    }
   ],
   "source": [
    "# %time dfd_3.groupby(\"userId\")[\"amount\"].sum().compute().sort_values()"
   ]
  },
  {
   "cell_type": "markdown",
   "metadata": {},
   "source": [
    "### Sorting Data By UserId"
   ]
  },
  {
   "cell_type": "code",
   "execution_count": 42,
   "metadata": {},
   "outputs": [],
   "source": [
    "sorted_dfd = dfd_5.sort_values(by=\"userId\", npartitions=None, ascending=True, na_position='last')"
   ]
  },
  {
   "cell_type": "code",
   "execution_count": 43,
   "metadata": {},
   "outputs": [
    {
     "data": {
      "text/html": [
       "<div>\n",
       "<style scoped>\n",
       "    .dataframe tbody tr th:only-of-type {\n",
       "        vertical-align: middle;\n",
       "    }\n",
       "\n",
       "    .dataframe tbody tr th {\n",
       "        vertical-align: top;\n",
       "    }\n",
       "\n",
       "    .dataframe thead th {\n",
       "        text-align: right;\n",
       "    }\n",
       "</style>\n",
       "<table border=\"1\" class=\"dataframe\">\n",
       "  <thead>\n",
       "    <tr style=\"text-align: right;\">\n",
       "      <th></th>\n",
       "      <th>bookingDate</th>\n",
       "      <th>purpose</th>\n",
       "      <th>tags</th>\n",
       "      <th>amount</th>\n",
       "      <th>userId</th>\n",
       "    </tr>\n",
       "  </thead>\n",
       "  <tbody>\n",
       "    <tr>\n",
       "      <th>293</th>\n",
       "      <td>1621900800</td>\n",
       "      <td>2021-05-20T12:58 Debitk.2 2099-12</td>\n",
       "      <td>card_payment,spending,fix-variabel</td>\n",
       "      <td>-117.47</td>\n",
       "      <td>0012c035-d1c8-4dd0-a175-4785c00cdb61</td>\n",
       "    </tr>\n",
       "    <tr>\n",
       "      <th>5736</th>\n",
       "      <td>1619481600</td>\n",
       "      <td>2021-04-26T13:10 Debitk.2 2024-12</td>\n",
       "      <td>card_payment,spending,health,pharmacy,fix-vari...</td>\n",
       "      <td>-6.97</td>\n",
       "      <td>0012c035-d1c8-4dd0-a175-4785c00cdb61</td>\n",
       "    </tr>\n",
       "    <tr>\n",
       "      <th>7332</th>\n",
       "      <td>1612137600</td>\n",
       "      <td>RATE PER 01.02.2021</td>\n",
       "      <td>direct_debit,spending,financing,credit_rate,fi...</td>\n",
       "      <td>-141.40</td>\n",
       "      <td>0012c035-d1c8-4dd0-a175-4785c00cdb61</td>\n",
       "    </tr>\n",
       "    <tr>\n",
       "      <th>85</th>\n",
       "      <td>1609286400</td>\n",
       "      <td>Entgeltabrechnung siehe Anlage\\nAbrechnung 30....</td>\n",
       "      <td>invoice,spending,bank_charges,account_manageme...</td>\n",
       "      <td>-0.08</td>\n",
       "      <td>0012c035-d1c8-4dd0-a175-4785c00cdb61</td>\n",
       "    </tr>\n",
       "    <tr>\n",
       "      <th>4927</th>\n",
       "      <td>1614902400</td>\n",
       "      <td>2021-03-03T18:24 Debitk.1 2022-12</td>\n",
       "      <td>card_payment,spending,health,pharmacy,variabel</td>\n",
       "      <td>-35.14</td>\n",
       "      <td>0012c035-d1c8-4dd0-a175-4785c00cdb61</td>\n",
       "    </tr>\n",
       "  </tbody>\n",
       "</table>\n",
       "</div>"
      ],
      "text/plain": [
       "      bookingDate                                            purpose  \\\n",
       "293    1621900800                  2021-05-20T12:58 Debitk.2 2099-12   \n",
       "5736   1619481600                  2021-04-26T13:10 Debitk.2 2024-12   \n",
       "7332   1612137600                                RATE PER 01.02.2021   \n",
       "85     1609286400  Entgeltabrechnung siehe Anlage\\nAbrechnung 30....   \n",
       "4927   1614902400                  2021-03-03T18:24 Debitk.1 2022-12   \n",
       "\n",
       "                                                   tags  amount  \\\n",
       "293                  card_payment,spending,fix-variabel -117.47   \n",
       "5736  card_payment,spending,health,pharmacy,fix-vari...   -6.97   \n",
       "7332  direct_debit,spending,financing,credit_rate,fi... -141.40   \n",
       "85    invoice,spending,bank_charges,account_manageme...   -0.08   \n",
       "4927     card_payment,spending,health,pharmacy,variabel  -35.14   \n",
       "\n",
       "                                    userId  \n",
       "293   0012c035-d1c8-4dd0-a175-4785c00cdb61  \n",
       "5736  0012c035-d1c8-4dd0-a175-4785c00cdb61  \n",
       "7332  0012c035-d1c8-4dd0-a175-4785c00cdb61  \n",
       "85    0012c035-d1c8-4dd0-a175-4785c00cdb61  \n",
       "4927  0012c035-d1c8-4dd0-a175-4785c00cdb61  "
      ]
     },
     "execution_count": 43,
     "metadata": {},
     "output_type": "execute_result"
    }
   ],
   "source": [
    "sorted_dfd.head()"
   ]
  },
  {
   "cell_type": "code",
   "execution_count": 44,
   "metadata": {},
   "outputs": [],
   "source": [
    "sorted_dfd_small = sorted_dfd.loc[:100000]"
   ]
  },
  {
   "cell_type": "code",
   "execution_count": 48,
   "metadata": {},
   "outputs": [
    {
     "data": {
      "text/plain": [
       "(Delayed('int-5c233be9-5c96-49a0-b9a7-9328e8dd27b1'), 5)"
      ]
     },
     "execution_count": 48,
     "metadata": {},
     "output_type": "execute_result"
    }
   ],
   "source": [
    "sorted_dfd_small.shape"
   ]
  },
  {
   "cell_type": "markdown",
   "metadata": {
    "tags": []
   },
   "source": [
    "### Converting UnixTimeStamp into Readable Format "
   ]
  },
  {
   "cell_type": "code",
   "execution_count": 28,
   "metadata": {},
   "outputs": [
    {
     "name": "stdout",
     "output_type": "stream",
     "text": [
      "2018-08-15\n"
     ]
    }
   ],
   "source": [
    "print(\n",
    "    datetime.fromtimestamp(\n",
    "        int(\"1534294861\")\n",
    "    ).strftime('%Y-%m-%d-%H-%')\n",
    ")"
   ]
  },
  {
   "cell_type": "code",
   "execution_count": 39,
   "metadata": {},
   "outputs": [
    {
     "data": {
      "text/html": [
       "<div>\n",
       "<style scoped>\n",
       "    .dataframe tbody tr th:only-of-type {\n",
       "        vertical-align: middle;\n",
       "    }\n",
       "\n",
       "    .dataframe tbody tr th {\n",
       "        vertical-align: top;\n",
       "    }\n",
       "\n",
       "    .dataframe thead th {\n",
       "        text-align: right;\n",
       "    }\n",
       "</style>\n",
       "<table border=\"1\" class=\"dataframe\">\n",
       "  <thead>\n",
       "    <tr style=\"text-align: right;\">\n",
       "      <th></th>\n",
       "      <th>bookingDate</th>\n",
       "      <th>purpose</th>\n",
       "      <th>tags</th>\n",
       "      <th>amount</th>\n",
       "      <th>userId</th>\n",
       "    </tr>\n",
       "  </thead>\n",
       "  <tbody>\n",
       "    <tr>\n",
       "      <th>0</th>\n",
       "      <td>1534294861</td>\n",
       "      <td>Kartenzahlung &lt;&lt;FIRST_NAME=ab25627f0022499b0d3...</td>\n",
       "      <td>card_payment,spending,mobility,car,car_fuel,fi...</td>\n",
       "      <td>-47.99</td>\n",
       "      <td>bankloginid.60502bc3c395af21ec04b3e8</td>\n",
       "    </tr>\n",
       "    <tr>\n",
       "      <th>1</th>\n",
       "      <td>1607040000</td>\n",
       "      <td>STAR TST/BREMEN/DE 03.12.2020 um 21:04:18 Uhr ...</td>\n",
       "      <td>card_payment,spending,mobility,car,car_fuel,fi...</td>\n",
       "      <td>-49.37</td>\n",
       "      <td>60267b72afc354135d9bbd73</td>\n",
       "    </tr>\n",
       "    <tr>\n",
       "      <th>2</th>\n",
       "      <td>1571184000</td>\n",
       "      <td>2019-10-15T19:51 Debitk.0 2021-12 KARTENZAHLUNG</td>\n",
       "      <td>card_payment,spending,variabel</td>\n",
       "      <td>-17.15</td>\n",
       "      <td>6094f2f2fcac366879c1a810</td>\n",
       "    </tr>\n",
       "    <tr>\n",
       "      <th>3</th>\n",
       "      <td>1557705600</td>\n",
       "      <td>2019-05-11T14:39 Debitk.2 2022-12 KARTENZAHLUNG</td>\n",
       "      <td>card_payment,spending,variabel</td>\n",
       "      <td>-106.96</td>\n",
       "      <td>60bf47a86b6759357385e6d9</td>\n",
       "    </tr>\n",
       "    <tr>\n",
       "      <th>4</th>\n",
       "      <td>1622592000</td>\n",
       "      <td>KARTENZAHLUNG 2021-06-01T15:45 Debitk.2 2024-1...</td>\n",
       "      <td>card_payment,spending,household,household_fash...</td>\n",
       "      <td>-41.96</td>\n",
       "      <td>60be2816b92620310a5e5ca0</td>\n",
       "    </tr>\n",
       "  </tbody>\n",
       "</table>\n",
       "</div>"
      ],
      "text/plain": [
       "   bookingDate                                            purpose  \\\n",
       "0   1534294861  Kartenzahlung <<FIRST_NAME=ab25627f0022499b0d3...   \n",
       "1   1607040000  STAR TST/BREMEN/DE 03.12.2020 um 21:04:18 Uhr ...   \n",
       "2   1571184000    2019-10-15T19:51 Debitk.0 2021-12 KARTENZAHLUNG   \n",
       "3   1557705600    2019-05-11T14:39 Debitk.2 2022-12 KARTENZAHLUNG   \n",
       "4   1622592000  KARTENZAHLUNG 2021-06-01T15:45 Debitk.2 2024-1...   \n",
       "\n",
       "                                                tags  amount  \\\n",
       "0  card_payment,spending,mobility,car,car_fuel,fi...  -47.99   \n",
       "1  card_payment,spending,mobility,car,car_fuel,fi...  -49.37   \n",
       "2                     card_payment,spending,variabel  -17.15   \n",
       "3                     card_payment,spending,variabel -106.96   \n",
       "4  card_payment,spending,household,household_fash...  -41.96   \n",
       "\n",
       "                                 userId  \n",
       "0  bankloginid.60502bc3c395af21ec04b3e8  \n",
       "1              60267b72afc354135d9bbd73  \n",
       "2              6094f2f2fcac366879c1a810  \n",
       "3              60bf47a86b6759357385e6d9  \n",
       "4              60be2816b92620310a5e5ca0  "
      ]
     },
     "execution_count": 39,
     "metadata": {},
     "output_type": "execute_result"
    }
   ],
   "source": [
    "dfd_5.head()"
   ]
  },
  {
   "cell_type": "code",
   "execution_count": 1,
   "metadata": {},
   "outputs": [],
   "source": [
    "# dfd_5[\"date\"]=pd.to_datetime(dfd_5.bookingDate, unit=\"D\")"
   ]
  },
  {
   "cell_type": "code",
   "execution_count": 2,
   "metadata": {
    "tags": []
   },
   "outputs": [],
   "source": [
    "# dfd_5[\"bookingDate\"] = dfd_5[\"bookingDate\"].apply(lambda d: datetime.fromtimestamp(int(d)).strftime(\"%Y-%m-%d\"))"
   ]
  },
  {
   "cell_type": "code",
   "execution_count": 3,
   "metadata": {
    "tags": []
   },
   "outputs": [],
   "source": [
    "# dfd_5[dfd_5[\"bookingDate\"]].head()"
   ]
  },
  {
   "cell_type": "code",
   "execution_count": 26,
   "metadata": {},
   "outputs": [
    {
     "data": {
      "text/plain": [
       "bookingDate         0\n",
       "purpose        360833\n",
       "tags           335553\n",
       "amount              0\n",
       "userId              0\n",
       "dtype: int64"
      ]
     },
     "execution_count": 26,
     "metadata": {},
     "output_type": "execute_result"
    }
   ],
   "source": [
    "dfd_3.isna().sum().compute()"
   ]
  },
  {
   "cell_type": "code",
   "execution_count": 27,
   "metadata": {},
   "outputs": [
    {
     "data": {
      "text/plain": [
       "66381917"
      ]
     },
     "execution_count": 27,
     "metadata": {},
     "output_type": "execute_result"
    }
   ],
   "source": [
    "len(dfd_3.index)"
   ]
  },
  {
   "cell_type": "code",
   "execution_count": 28,
   "metadata": {},
   "outputs": [],
   "source": [
    "dfd_4 = dfd_3.dropna()"
   ]
  },
  {
   "cell_type": "code",
   "execution_count": 29,
   "metadata": {},
   "outputs": [
    {
     "data": {
      "text/plain": [
       "65691541"
      ]
     },
     "execution_count": 29,
     "metadata": {},
     "output_type": "execute_result"
    }
   ],
   "source": [
    "len(dfd_4.index)"
   ]
  },
  {
   "cell_type": "code",
   "execution_count": 30,
   "metadata": {},
   "outputs": [
    {
     "name": "stdout",
     "output_type": "stream",
     "text": [
      "Wall time: 6min 25s\n"
     ]
    },
    {
     "data": {
      "text/plain": [
       "bookingDate    0\n",
       "purpose        0\n",
       "tags           0\n",
       "amount         0\n",
       "userId         0\n",
       "dtype: int64"
      ]
     },
     "execution_count": 30,
     "metadata": {},
     "output_type": "execute_result"
    }
   ],
   "source": [
    "%time dfd_4.isna().sum().compute()"
   ]
  },
  {
   "cell_type": "code",
   "execution_count": 14,
   "metadata": {},
   "outputs": [],
   "source": [
    "dfd = dd.read_csv('combined-csv-files.csv', dtype={'amount': 'object',\n",
    "       'bookingDate': 'object',\n",
    "       'idx': 'object',\n",
    "       'transactionCode': 'object'}, engine='python', encoding='utf-8')"
   ]
  },
  {
   "cell_type": "code",
   "execution_count": 55,
   "metadata": {},
   "outputs": [],
   "source": [
    "dfd_2 = dd.read_csv('infina-export-2021-11-08-batch_0.csv', dtype={'amount': 'object',\n",
    "       'bookingDate': 'object',\n",
    "       'idx': 'object',\n",
    "       'transactionCode': 'object'}, engine='python', encoding='utf-8')"
   ]
  },
  {
   "cell_type": "code",
   "execution_count": 32,
   "metadata": {},
   "outputs": [
    {
     "data": {
      "text/html": [
       "<div><strong>Dask DataFrame Structure:</strong></div>\n",
       "<div>\n",
       "<style scoped>\n",
       "    .dataframe tbody tr th:only-of-type {\n",
       "        vertical-align: middle;\n",
       "    }\n",
       "\n",
       "    .dataframe tbody tr th {\n",
       "        vertical-align: top;\n",
       "    }\n",
       "\n",
       "    .dataframe thead th {\n",
       "        text-align: right;\n",
       "    }\n",
       "</style>\n",
       "<table border=\"1\" class=\"dataframe\">\n",
       "  <thead>\n",
       "    <tr style=\"text-align: right;\">\n",
       "      <th></th>\n",
       "      <th>idx</th>\n",
       "      <th>id</th>\n",
       "      <th>currency</th>\n",
       "      <th>mref</th>\n",
       "      <th>transactionCode</th>\n",
       "      <th>payment_partner_name</th>\n",
       "      <th>payment_partner_creditorId</th>\n",
       "      <th>payment_partner_Iban</th>\n",
       "      <th>payment_partner_bic</th>\n",
       "      <th>bookingDate</th>\n",
       "      <th>purpose</th>\n",
       "      <th>tags</th>\n",
       "      <th>amount</th>\n",
       "      <th>userId</th>\n",
       "    </tr>\n",
       "    <tr>\n",
       "      <th>npartitions=507</th>\n",
       "      <th></th>\n",
       "      <th></th>\n",
       "      <th></th>\n",
       "      <th></th>\n",
       "      <th></th>\n",
       "      <th></th>\n",
       "      <th></th>\n",
       "      <th></th>\n",
       "      <th></th>\n",
       "      <th></th>\n",
       "      <th></th>\n",
       "      <th></th>\n",
       "      <th></th>\n",
       "      <th></th>\n",
       "    </tr>\n",
       "  </thead>\n",
       "  <tbody>\n",
       "    <tr>\n",
       "      <th></th>\n",
       "      <td>object</td>\n",
       "      <td>object</td>\n",
       "      <td>object</td>\n",
       "      <td>object</td>\n",
       "      <td>object</td>\n",
       "      <td>object</td>\n",
       "      <td>object</td>\n",
       "      <td>object</td>\n",
       "      <td>object</td>\n",
       "      <td>object</td>\n",
       "      <td>object</td>\n",
       "      <td>object</td>\n",
       "      <td>object</td>\n",
       "      <td>object</td>\n",
       "    </tr>\n",
       "    <tr>\n",
       "      <th></th>\n",
       "      <td>...</td>\n",
       "      <td>...</td>\n",
       "      <td>...</td>\n",
       "      <td>...</td>\n",
       "      <td>...</td>\n",
       "      <td>...</td>\n",
       "      <td>...</td>\n",
       "      <td>...</td>\n",
       "      <td>...</td>\n",
       "      <td>...</td>\n",
       "      <td>...</td>\n",
       "      <td>...</td>\n",
       "      <td>...</td>\n",
       "      <td>...</td>\n",
       "    </tr>\n",
       "    <tr>\n",
       "      <th>...</th>\n",
       "      <td>...</td>\n",
       "      <td>...</td>\n",
       "      <td>...</td>\n",
       "      <td>...</td>\n",
       "      <td>...</td>\n",
       "      <td>...</td>\n",
       "      <td>...</td>\n",
       "      <td>...</td>\n",
       "      <td>...</td>\n",
       "      <td>...</td>\n",
       "      <td>...</td>\n",
       "      <td>...</td>\n",
       "      <td>...</td>\n",
       "      <td>...</td>\n",
       "    </tr>\n",
       "    <tr>\n",
       "      <th></th>\n",
       "      <td>...</td>\n",
       "      <td>...</td>\n",
       "      <td>...</td>\n",
       "      <td>...</td>\n",
       "      <td>...</td>\n",
       "      <td>...</td>\n",
       "      <td>...</td>\n",
       "      <td>...</td>\n",
       "      <td>...</td>\n",
       "      <td>...</td>\n",
       "      <td>...</td>\n",
       "      <td>...</td>\n",
       "      <td>...</td>\n",
       "      <td>...</td>\n",
       "    </tr>\n",
       "    <tr>\n",
       "      <th></th>\n",
       "      <td>...</td>\n",
       "      <td>...</td>\n",
       "      <td>...</td>\n",
       "      <td>...</td>\n",
       "      <td>...</td>\n",
       "      <td>...</td>\n",
       "      <td>...</td>\n",
       "      <td>...</td>\n",
       "      <td>...</td>\n",
       "      <td>...</td>\n",
       "      <td>...</td>\n",
       "      <td>...</td>\n",
       "      <td>...</td>\n",
       "      <td>...</td>\n",
       "    </tr>\n",
       "  </tbody>\n",
       "</table>\n",
       "</div>\n",
       "<div>Dask Name: read-csv, 507 tasks</div>"
      ],
      "text/plain": [
       "Dask DataFrame Structure:\n",
       "                    idx      id currency    mref transactionCode payment_partner_name payment_partner_creditorId payment_partner_Iban payment_partner_bic bookingDate purpose    tags  amount  userId\n",
       "npartitions=507                                                                                                                                                                                      \n",
       "                 object  object   object  object          object               object                     object               object              object      object  object  object  object  object\n",
       "                    ...     ...      ...     ...             ...                  ...                        ...                  ...                 ...         ...     ...     ...     ...     ...\n",
       "...                 ...     ...      ...     ...             ...                  ...                        ...                  ...                 ...         ...     ...     ...     ...     ...\n",
       "                    ...     ...      ...     ...             ...                  ...                        ...                  ...                 ...         ...     ...     ...     ...     ...\n",
       "                    ...     ...      ...     ...             ...                  ...                        ...                  ...                 ...         ...     ...     ...     ...     ...\n",
       "Dask Name: read-csv, 507 tasks"
      ]
     },
     "execution_count": 32,
     "metadata": {},
     "output_type": "execute_result"
    }
   ],
   "source": [
    "dfd"
   ]
  },
  {
   "cell_type": "code",
   "execution_count": 33,
   "metadata": {},
   "outputs": [],
   "source": [
    "# dfd = dfd.persist()\n",
    "# dfd"
   ]
  },
  {
   "cell_type": "code",
   "execution_count": 34,
   "metadata": {
    "tags": []
   },
   "outputs": [
    {
     "data": {
      "text/plain": [
       "'dfd = dd.read_csv(\\n    \\'combined-csv-files.csv\\', \\n    sep=\\',\\',\\n    names=[\\'idx\\', \\'id\\', \\'currency\\', \\'mref\\', \\'transactionCode\\',\\n       \\'payment_partner_name\\', \\'payment_partner_creditorId\\',\\n       \\'payment_partner_Iban\\', \\'payment_partner_bic\\', \\'bookingDate\\', \\'purpose\\',\\n       \\'tags\\', \\'amount\\', \\'userId\\'],\\n    # dtype={\\n    #    ‘referrer_type’: ‘category’, \\n    #    ’n’: ‘uint32’},\\n    blocksize=64000000, # = 64 Mb chunks\\n    engine=\\'python\\',\\n    quotechar=\\'\"\\',\\n    quoting=3\\n)'"
      ]
     },
     "execution_count": 34,
     "metadata": {},
     "output_type": "execute_result"
    }
   ],
   "source": [
    "\"\"\"dfd = dd.read_csv(\n",
    "    'combined-csv-files.csv', \n",
    "    sep=',',\n",
    "    names=['idx', 'id', 'currency', 'mref', 'transactionCode',\n",
    "       'payment_partner_name', 'payment_partner_creditorId',\n",
    "       'payment_partner_Iban', 'payment_partner_bic', 'bookingDate', 'purpose',\n",
    "       'tags', 'amount', 'userId'],\n",
    "    # dtype={\n",
    "    #    ‘referrer_type’: ‘category’, \n",
    "    #    ’n’: ‘uint32’},\n",
    "    blocksize=64000000, # = 64 Mb chunks\n",
    "    engine='python',\n",
    "    quotechar='\"',\n",
    "    quoting=3\n",
    ")\"\"\""
   ]
  },
  {
   "cell_type": "code",
   "execution_count": 10,
   "metadata": {},
   "outputs": [
    {
     "data": {
      "text/plain": [
       "idx                            object\n",
       "id                             object\n",
       "currency                       object\n",
       "mref                           object\n",
       "transactionCode                object\n",
       "payment_partner_name           object\n",
       "payment_partner_creditorId     object\n",
       "payment_partner_Iban           object\n",
       "payment_partner_bic            object\n",
       "bookingDate                    object\n",
       "purpose                        object\n",
       "tags                           object\n",
       "amount                        float64\n",
       "userId                         object\n",
       "dtype: object"
      ]
     },
     "execution_count": 10,
     "metadata": {},
     "output_type": "execute_result"
    }
   ],
   "source": [
    "dfd.dtypes"
   ]
  },
  {
   "cell_type": "code",
   "execution_count": 36,
   "metadata": {},
   "outputs": [
    {
     "data": {
      "text/plain": [
       "(Delayed('int-69036acd-ce9c-4d6a-85f3-ceb02ab2777d'), 14)"
      ]
     },
     "execution_count": 36,
     "metadata": {},
     "output_type": "execute_result"
    }
   ],
   "source": [
    "dfd.shape"
   ]
  },
  {
   "cell_type": "code",
   "execution_count": 37,
   "metadata": {},
   "outputs": [
    {
     "data": {
      "text/plain": [
       "Index(['idx', 'id', 'currency', 'mref', 'transactionCode',\n",
       "       'payment_partner_name', 'payment_partner_creditorId',\n",
       "       'payment_partner_Iban', 'payment_partner_bic', 'bookingDate', 'purpose',\n",
       "       'tags', 'amount', 'userId'],\n",
       "      dtype='object')"
      ]
     },
     "execution_count": 37,
     "metadata": {},
     "output_type": "execute_result"
    }
   ],
   "source": [
    "dfd.columns"
   ]
  },
  {
   "cell_type": "code",
   "execution_count": 56,
   "metadata": {},
   "outputs": [
    {
     "data": {
      "text/plain": [
       "Index(['idx', 'id', 'currency', 'mref', 'transactionCode',\n",
       "       'payment_partner_name', 'payment_partner_creditorId',\n",
       "       'payment_partner_Iban', 'payment_partner_bic', 'bookingDate', 'purpose',\n",
       "       'tags', 'amount', 'userId'],\n",
       "      dtype='object')"
      ]
     },
     "execution_count": 56,
     "metadata": {},
     "output_type": "execute_result"
    }
   ],
   "source": [
    "dfd_2.columns"
   ]
  },
  {
   "cell_type": "code",
   "execution_count": 52,
   "metadata": {},
   "outputs": [
    {
     "name": "stdout",
     "output_type": "stream",
     "text": [
      "Wall time: 13.6 ms\n"
     ]
    },
    {
     "data": {
      "text/plain": [
       "Dask Series Structure:\n",
       "npartitions=1\n",
       "    object\n",
       "       ...\n",
       "Name: amount, dtype: object\n",
       "Dask Name: series-groupby-sum-agg, 1087 tasks"
      ]
     },
     "execution_count": 52,
     "metadata": {},
     "output_type": "execute_result"
    }
   ],
   "source": [
    "%time dfd.groupby(\"userId\")[\"amount\"].sum()"
   ]
  },
  {
   "cell_type": "code",
   "execution_count": 12,
   "metadata": {},
   "outputs": [
    {
     "name": "stdout",
     "output_type": "stream",
     "text": [
      "Wall time: 7.85 ms\n"
     ]
    },
    {
     "data": {
      "text/html": [
       "<div><strong>Dask DataFrame Structure:</strong></div>\n",
       "<div>\n",
       "<style scoped>\n",
       "    .dataframe tbody tr th:only-of-type {\n",
       "        vertical-align: middle;\n",
       "    }\n",
       "\n",
       "    .dataframe tbody tr th {\n",
       "        vertical-align: top;\n",
       "    }\n",
       "\n",
       "    .dataframe thead th {\n",
       "        text-align: right;\n",
       "    }\n",
       "</style>\n",
       "<table border=\"1\" class=\"dataframe\">\n",
       "  <thead>\n",
       "    <tr style=\"text-align: right;\">\n",
       "      <th></th>\n",
       "      <th>idx</th>\n",
       "      <th>id</th>\n",
       "      <th>currency</th>\n",
       "      <th>mref</th>\n",
       "      <th>transactionCode</th>\n",
       "      <th>payment_partner_name</th>\n",
       "      <th>payment_partner_creditorId</th>\n",
       "      <th>payment_partner_Iban</th>\n",
       "      <th>payment_partner_bic</th>\n",
       "      <th>bookingDate</th>\n",
       "      <th>purpose</th>\n",
       "      <th>tags</th>\n",
       "      <th>amount</th>\n",
       "      <th>userId</th>\n",
       "    </tr>\n",
       "    <tr>\n",
       "      <th>npartitions=507</th>\n",
       "      <th></th>\n",
       "      <th></th>\n",
       "      <th></th>\n",
       "      <th></th>\n",
       "      <th></th>\n",
       "      <th></th>\n",
       "      <th></th>\n",
       "      <th></th>\n",
       "      <th></th>\n",
       "      <th></th>\n",
       "      <th></th>\n",
       "      <th></th>\n",
       "      <th></th>\n",
       "      <th></th>\n",
       "    </tr>\n",
       "  </thead>\n",
       "  <tbody>\n",
       "    <tr>\n",
       "      <th></th>\n",
       "      <td>object</td>\n",
       "      <td>object</td>\n",
       "      <td>object</td>\n",
       "      <td>object</td>\n",
       "      <td>object</td>\n",
       "      <td>object</td>\n",
       "      <td>object</td>\n",
       "      <td>object</td>\n",
       "      <td>object</td>\n",
       "      <td>object</td>\n",
       "      <td>object</td>\n",
       "      <td>object</td>\n",
       "      <td>float64</td>\n",
       "      <td>object</td>\n",
       "    </tr>\n",
       "    <tr>\n",
       "      <th></th>\n",
       "      <td>...</td>\n",
       "      <td>...</td>\n",
       "      <td>...</td>\n",
       "      <td>...</td>\n",
       "      <td>...</td>\n",
       "      <td>...</td>\n",
       "      <td>...</td>\n",
       "      <td>...</td>\n",
       "      <td>...</td>\n",
       "      <td>...</td>\n",
       "      <td>...</td>\n",
       "      <td>...</td>\n",
       "      <td>...</td>\n",
       "      <td>...</td>\n",
       "    </tr>\n",
       "    <tr>\n",
       "      <th>...</th>\n",
       "      <td>...</td>\n",
       "      <td>...</td>\n",
       "      <td>...</td>\n",
       "      <td>...</td>\n",
       "      <td>...</td>\n",
       "      <td>...</td>\n",
       "      <td>...</td>\n",
       "      <td>...</td>\n",
       "      <td>...</td>\n",
       "      <td>...</td>\n",
       "      <td>...</td>\n",
       "      <td>...</td>\n",
       "      <td>...</td>\n",
       "      <td>...</td>\n",
       "    </tr>\n",
       "    <tr>\n",
       "      <th></th>\n",
       "      <td>...</td>\n",
       "      <td>...</td>\n",
       "      <td>...</td>\n",
       "      <td>...</td>\n",
       "      <td>...</td>\n",
       "      <td>...</td>\n",
       "      <td>...</td>\n",
       "      <td>...</td>\n",
       "      <td>...</td>\n",
       "      <td>...</td>\n",
       "      <td>...</td>\n",
       "      <td>...</td>\n",
       "      <td>...</td>\n",
       "      <td>...</td>\n",
       "    </tr>\n",
       "    <tr>\n",
       "      <th></th>\n",
       "      <td>...</td>\n",
       "      <td>...</td>\n",
       "      <td>...</td>\n",
       "      <td>...</td>\n",
       "      <td>...</td>\n",
       "      <td>...</td>\n",
       "      <td>...</td>\n",
       "      <td>...</td>\n",
       "      <td>...</td>\n",
       "      <td>...</td>\n",
       "      <td>...</td>\n",
       "      <td>...</td>\n",
       "      <td>...</td>\n",
       "      <td>...</td>\n",
       "    </tr>\n",
       "  </tbody>\n",
       "</table>\n",
       "</div>\n",
       "<div>Dask Name: try_loc, 1014 tasks</div>"
      ],
      "text/plain": [
       "Dask DataFrame Structure:\n",
       "                    idx      id currency    mref transactionCode payment_partner_name payment_partner_creditorId payment_partner_Iban payment_partner_bic bookingDate purpose    tags   amount  userId\n",
       "npartitions=507                                                                                                                                                                                       \n",
       "                 object  object   object  object          object               object                     object               object              object      object  object  object  float64  object\n",
       "                    ...     ...      ...     ...             ...                  ...                        ...                  ...                 ...         ...     ...     ...      ...     ...\n",
       "...                 ...     ...      ...     ...             ...                  ...                        ...                  ...                 ...         ...     ...     ...      ...     ...\n",
       "                    ...     ...      ...     ...             ...                  ...                        ...                  ...                 ...         ...     ...     ...      ...     ...\n",
       "                    ...     ...      ...     ...             ...                  ...                        ...                  ...                 ...         ...     ...     ...      ...     ...\n",
       "Dask Name: try_loc, 1014 tasks"
      ]
     },
     "execution_count": 12,
     "metadata": {},
     "output_type": "execute_result"
    }
   ],
   "source": [
    "%time dfd.loc[0:1000]"
   ]
  },
  {
   "cell_type": "code",
   "execution_count": 13,
   "metadata": {},
   "outputs": [],
   "source": [
    "%time dfd.loc[0:1000].compute()"
   ]
  },
  {
   "cell_type": "code",
   "execution_count": 57,
   "metadata": {},
   "outputs": [],
   "source": [
    "users = dfd.loc[dfd[\"userId\"].isin([\"bankloginid\"]),[\"userId\",\"tags\", \"amount\", \"bookingDate\"]].groupby([\"userId\"])"
   ]
  },
  {
   "cell_type": "code",
   "execution_count": 58,
   "metadata": {},
   "outputs": [],
   "source": [
    "store = pd.HDFStore('clickstream_store2.h5')"
   ]
  },
  {
   "cell_type": "code",
   "execution_count": 59,
   "metadata": {},
   "outputs": [],
   "source": [
    "top_users = users.sum().nlargest(10, \"amount\")"
   ]
  },
  {
   "cell_type": "code",
   "execution_count": 60,
   "metadata": {},
   "outputs": [
    {
     "data": {
      "text/html": [
       "<div><strong>Dask DataFrame Structure:</strong></div>\n",
       "<div>\n",
       "<style scoped>\n",
       "    .dataframe tbody tr th:only-of-type {\n",
       "        vertical-align: middle;\n",
       "    }\n",
       "\n",
       "    .dataframe tbody tr th {\n",
       "        vertical-align: top;\n",
       "    }\n",
       "\n",
       "    .dataframe thead th {\n",
       "        text-align: right;\n",
       "    }\n",
       "</style>\n",
       "<table border=\"1\" class=\"dataframe\">\n",
       "  <thead>\n",
       "    <tr style=\"text-align: right;\">\n",
       "      <th></th>\n",
       "    </tr>\n",
       "    <tr>\n",
       "      <th>npartitions=1</th>\n",
       "    </tr>\n",
       "  </thead>\n",
       "  <tbody>\n",
       "    <tr>\n",
       "      <th></th>\n",
       "    </tr>\n",
       "    <tr>\n",
       "      <th></th>\n",
       "    </tr>\n",
       "  </tbody>\n",
       "</table>\n",
       "</div>\n",
       "<div>Dask Name: dataframe-nlargest-agg, 2611 tasks</div>"
      ],
      "text/plain": [
       "Empty Dask DataFrame Structure:\n",
       "Columns: []\n",
       "Divisions: [, ]\n",
       "Dask Name: dataframe-nlargest-agg, 2611 tasks"
      ]
     },
     "execution_count": 60,
     "metadata": {},
     "output_type": "execute_result"
    }
   ],
   "source": [
    "top_users"
   ]
  },
  {
   "cell_type": "code",
   "execution_count": null,
   "metadata": {},
   "outputs": [],
   "source": [
    "# Read the csv file\n",
    "data = pd.read_csv(\n",
    "    'combined-csv-files.csv',\n",
    "    delimiter=',',\n",
    "    names=['idx', 'id', 'currency', 'mref', 'transactionCode',\n",
    "       'payment_partner_name', 'payment_partner_creditorId',\n",
    "       'payment_partner_Iban', 'payment_partner_bic', 'bookingDate', 'purpose',\n",
    "       'tags', 'amount', 'userId'],\n",
    "    )"
   ]
  },
  {
   "cell_type": "code",
   "execution_count": 27,
   "metadata": {},
   "outputs": [
    {
     "data": {
      "text/plain": [
       "(66358824, 14)"
      ]
     },
     "execution_count": 27,
     "metadata": {},
     "output_type": "execute_result"
    }
   ],
   "source": [
    "data.shape"
   ]
  },
  {
   "cell_type": "code",
   "execution_count": 8,
   "metadata": {},
   "outputs": [],
   "source": [
    "data = pd.read_csv('infina-export-2021-11-08-batch_0.csv')"
   ]
  },
  {
   "cell_type": "code",
   "execution_count": 31,
   "metadata": {},
   "outputs": [],
   "source": [
    "# data = pd.read_csv('infina-export-2021-11-08-batch_1.csv')"
   ]
  },
  {
   "cell_type": "code",
   "execution_count": 9,
   "metadata": {},
   "outputs": [
    {
     "data": {
      "text/html": [
       "<div>\n",
       "<style scoped>\n",
       "    .dataframe tbody tr th:only-of-type {\n",
       "        vertical-align: middle;\n",
       "    }\n",
       "\n",
       "    .dataframe tbody tr th {\n",
       "        vertical-align: top;\n",
       "    }\n",
       "\n",
       "    .dataframe thead th {\n",
       "        text-align: right;\n",
       "    }\n",
       "</style>\n",
       "<table border=\"1\" class=\"dataframe\">\n",
       "  <thead>\n",
       "    <tr style=\"text-align: right;\">\n",
       "      <th></th>\n",
       "      <th>idx</th>\n",
       "      <th>id</th>\n",
       "      <th>currency</th>\n",
       "      <th>mref</th>\n",
       "      <th>transactionCode</th>\n",
       "      <th>payment_partner_name</th>\n",
       "      <th>payment_partner_creditorId</th>\n",
       "      <th>payment_partner_Iban</th>\n",
       "      <th>payment_partner_bic</th>\n",
       "      <th>bookingDate</th>\n",
       "      <th>purpose</th>\n",
       "      <th>tags</th>\n",
       "      <th>amount</th>\n",
       "      <th>userId</th>\n",
       "    </tr>\n",
       "  </thead>\n",
       "  <tbody>\n",
       "    <tr>\n",
       "      <th>0</th>\n",
       "      <td>1</td>\n",
       "      <td>9f158a2d630637e3b73ac4200039fc0785f12205ecd939...</td>\n",
       "      <td>EUR</td>\n",
       "      <td>NaN</td>\n",
       "      <td>999.0</td>\n",
       "      <td>&lt;&lt;PP_NAME=ab25627f0022499b0d37259f87b791bba77a...</td>\n",
       "      <td>NaN</td>\n",
       "      <td>&lt;&lt;PP_IBAN=d23e8edce1c3b7fe4deace094ab9c0bb1b81...</td>\n",
       "      <td>NaN</td>\n",
       "      <td>1534294861</td>\n",
       "      <td>Kartenzahlung &lt;&lt;FIRST_NAME=ab25627f0022499b0d3...</td>\n",
       "      <td>card_payment,spending,mobility,car,car_fuel,fi...</td>\n",
       "      <td>-47.99</td>\n",
       "      <td>bankloginid.60502bc3c395af21ec04b3e8</td>\n",
       "    </tr>\n",
       "    <tr>\n",
       "      <th>1</th>\n",
       "      <td>2</td>\n",
       "      <td>754fa65ff2bccbf0bcf087ad074e8d7f2acd1b8397b8c2...</td>\n",
       "      <td>EUR</td>\n",
       "      <td>&lt;&lt;MREF=7ef58601872cd2567ea2879a38cd27fcea08908...</td>\n",
       "      <td>106.0</td>\n",
       "      <td>Orlen Deutschland GmbH</td>\n",
       "      <td>NaN</td>\n",
       "      <td>DE39500500000096500038</td>\n",
       "      <td>HELADEFFXXX</td>\n",
       "      <td>1607040000</td>\n",
       "      <td>STAR TST/BREMEN/DE 03.12.2020 um 21:04:18 Uhr ...</td>\n",
       "      <td>card_payment,spending,mobility,car,car_fuel,fi...</td>\n",
       "      <td>-49.37</td>\n",
       "      <td>60267b72afc354135d9bbd73</td>\n",
       "    </tr>\n",
       "    <tr>\n",
       "      <th>2</th>\n",
       "      <td>3</td>\n",
       "      <td>7dd6cbe264f4d6c1ff7de82030d9002c96361938c99625...</td>\n",
       "      <td>EUR</td>\n",
       "      <td>NaN</td>\n",
       "      <td>106.0</td>\n",
       "      <td>&lt;&lt;PP_NAME=9f231e1f69fb954bc40ee46465ef75458dd8...</td>\n",
       "      <td>NaN</td>\n",
       "      <td>&lt;&lt;PP_IBAN=00ab73d6ce23cd8026554cb6b41c72b636ee...</td>\n",
       "      <td>WELADEDDXXX</td>\n",
       "      <td>1571184000</td>\n",
       "      <td>2019-10-15T19:51 Debitk.0 2021-12 KARTENZAHLUNG</td>\n",
       "      <td>card_payment,spending,variabel</td>\n",
       "      <td>-17.15</td>\n",
       "      <td>6094f2f2fcac366879c1a810</td>\n",
       "    </tr>\n",
       "    <tr>\n",
       "      <th>3</th>\n",
       "      <td>4</td>\n",
       "      <td>cd06616ca8dfa487c0eeaded1dd41fabdd9284680830f4...</td>\n",
       "      <td>EUR</td>\n",
       "      <td>NaN</td>\n",
       "      <td>106.0</td>\n",
       "      <td>GARTENC. FULDABRUECK 1</td>\n",
       "      <td>NaN</td>\n",
       "      <td>DE78520400210331190900</td>\n",
       "      <td>COBADEFFXXX</td>\n",
       "      <td>1557705600</td>\n",
       "      <td>2019-05-11T14:39 Debitk.2 2022-12 KARTENZAHLUNG</td>\n",
       "      <td>card_payment,spending,variabel</td>\n",
       "      <td>-106.96</td>\n",
       "      <td>60bf47a86b6759357385e6d9</td>\n",
       "    </tr>\n",
       "    <tr>\n",
       "      <th>4</th>\n",
       "      <td>5</td>\n",
       "      <td>01e8dd98a9ac8dab6bc013886fae42cf11d9e6d0d56159...</td>\n",
       "      <td>EUR</td>\n",
       "      <td>NaN</td>\n",
       "      <td>999.0</td>\n",
       "      <td>&lt;&lt;PP_NAME=362cd0e4912e4d78fb2201f8da6434c6ace3...</td>\n",
       "      <td>NaN</td>\n",
       "      <td>&lt;&lt;PP_IBAN=ac0127b5365b7de870ff07046b2c20f0882a...</td>\n",
       "      <td>COBADEDDXXX</td>\n",
       "      <td>1622592000</td>\n",
       "      <td>KARTENZAHLUNG 2021-06-01T15:45 Debitk.2 2024-1...</td>\n",
       "      <td>card_payment,spending,household,household_fash...</td>\n",
       "      <td>-41.96</td>\n",
       "      <td>60be2816b92620310a5e5ca0</td>\n",
       "    </tr>\n",
       "  </tbody>\n",
       "</table>\n",
       "</div>"
      ],
      "text/plain": [
       "   idx                                                 id currency  \\\n",
       "0    1  9f158a2d630637e3b73ac4200039fc0785f12205ecd939...      EUR   \n",
       "1    2  754fa65ff2bccbf0bcf087ad074e8d7f2acd1b8397b8c2...      EUR   \n",
       "2    3  7dd6cbe264f4d6c1ff7de82030d9002c96361938c99625...      EUR   \n",
       "3    4  cd06616ca8dfa487c0eeaded1dd41fabdd9284680830f4...      EUR   \n",
       "4    5  01e8dd98a9ac8dab6bc013886fae42cf11d9e6d0d56159...      EUR   \n",
       "\n",
       "                                                mref  transactionCode  \\\n",
       "0                                                NaN            999.0   \n",
       "1  <<MREF=7ef58601872cd2567ea2879a38cd27fcea08908...            106.0   \n",
       "2                                                NaN            106.0   \n",
       "3                                                NaN            106.0   \n",
       "4                                                NaN            999.0   \n",
       "\n",
       "                                payment_partner_name  \\\n",
       "0  <<PP_NAME=ab25627f0022499b0d37259f87b791bba77a...   \n",
       "1                             Orlen Deutschland GmbH   \n",
       "2  <<PP_NAME=9f231e1f69fb954bc40ee46465ef75458dd8...   \n",
       "3                             GARTENC. FULDABRUECK 1   \n",
       "4  <<PP_NAME=362cd0e4912e4d78fb2201f8da6434c6ace3...   \n",
       "\n",
       "  payment_partner_creditorId  \\\n",
       "0                        NaN   \n",
       "1                        NaN   \n",
       "2                        NaN   \n",
       "3                        NaN   \n",
       "4                        NaN   \n",
       "\n",
       "                                payment_partner_Iban payment_partner_bic  \\\n",
       "0  <<PP_IBAN=d23e8edce1c3b7fe4deace094ab9c0bb1b81...                 NaN   \n",
       "1                             DE39500500000096500038         HELADEFFXXX   \n",
       "2  <<PP_IBAN=00ab73d6ce23cd8026554cb6b41c72b636ee...         WELADEDDXXX   \n",
       "3                             DE78520400210331190900         COBADEFFXXX   \n",
       "4  <<PP_IBAN=ac0127b5365b7de870ff07046b2c20f0882a...         COBADEDDXXX   \n",
       "\n",
       "   bookingDate                                            purpose  \\\n",
       "0   1534294861  Kartenzahlung <<FIRST_NAME=ab25627f0022499b0d3...   \n",
       "1   1607040000  STAR TST/BREMEN/DE 03.12.2020 um 21:04:18 Uhr ...   \n",
       "2   1571184000    2019-10-15T19:51 Debitk.0 2021-12 KARTENZAHLUNG   \n",
       "3   1557705600    2019-05-11T14:39 Debitk.2 2022-12 KARTENZAHLUNG   \n",
       "4   1622592000  KARTENZAHLUNG 2021-06-01T15:45 Debitk.2 2024-1...   \n",
       "\n",
       "                                                tags  amount  \\\n",
       "0  card_payment,spending,mobility,car,car_fuel,fi...  -47.99   \n",
       "1  card_payment,spending,mobility,car,car_fuel,fi...  -49.37   \n",
       "2                     card_payment,spending,variabel  -17.15   \n",
       "3                     card_payment,spending,variabel -106.96   \n",
       "4  card_payment,spending,household,household_fash...  -41.96   \n",
       "\n",
       "                                 userId  \n",
       "0  bankloginid.60502bc3c395af21ec04b3e8  \n",
       "1              60267b72afc354135d9bbd73  \n",
       "2              6094f2f2fcac366879c1a810  \n",
       "3              60bf47a86b6759357385e6d9  \n",
       "4              60be2816b92620310a5e5ca0  "
      ]
     },
     "execution_count": 9,
     "metadata": {},
     "output_type": "execute_result"
    }
   ],
   "source": [
    "data.head()"
   ]
  },
  {
   "cell_type": "code",
   "execution_count": 50,
   "metadata": {},
   "outputs": [
    {
     "data": {
      "text/plain": [
       "userId\n",
       "29e0dc95-52da-4274-9679-14d981bf3c84                                   -157865.12\n",
       "bankloginid.5e627bfd6ff2fc00019da821                                    -61343.08\n",
       "60abeea522e6ba4e851482bf                                                -50612.11\n",
       "609908cf13aef1606cac76af                                                -16413.36\n",
       "618527c14494e74e23a227c5                                                -15297.54\n",
       "                                                                          ...    \n",
       "bankloginid.5eb671b4f8fcfd0001eff7b2                                     34571.95\n",
       "6059e94ca60d8a28cb7a54ab                                                 35869.53\n",
       "bankloginid.605df8526732b330e386e617                                     44146.60\n",
       "<<USER_ID=3d4aa868034b94756d7e63ade5c946c6dc5ff93e5bb1e84fb5856a83>>     47101.88\n",
       "5fc2813660fc9f2580d2ef79                                                 70980.85\n",
       "Name: amount, Length: 6922, dtype: float64"
      ]
     },
     "execution_count": 50,
     "metadata": {},
     "output_type": "execute_result"
    }
   ],
   "source": [
    "data.groupby(\"userId\")[\"amount\"].sum().sort_values()"
   ]
  },
  {
   "cell_type": "code",
   "execution_count": 32,
   "metadata": {},
   "outputs": [
    {
     "data": {
      "text/plain": [
       "Index(['idx', 'id', 'currency', 'mref', 'transactionCode',\n",
       "       'payment_partner_name', 'payment_partner_creditorId',\n",
       "       'payment_partner_Iban', 'payment_partner_bic', 'bookingDate', 'purpose',\n",
       "       'tags', 'amount', 'userId'],\n",
       "      dtype='object')"
      ]
     },
     "execution_count": 32,
     "metadata": {},
     "output_type": "execute_result"
    }
   ],
   "source": [
    "data.columns"
   ]
  },
  {
   "cell_type": "code",
   "execution_count": 33,
   "metadata": {},
   "outputs": [
    {
     "data": {
      "text/html": [
       "<div>\n",
       "<style scoped>\n",
       "    .dataframe tbody tr th:only-of-type {\n",
       "        vertical-align: middle;\n",
       "    }\n",
       "\n",
       "    .dataframe tbody tr th {\n",
       "        vertical-align: top;\n",
       "    }\n",
       "\n",
       "    .dataframe thead th {\n",
       "        text-align: right;\n",
       "    }\n",
       "</style>\n",
       "<table border=\"1\" class=\"dataframe\">\n",
       "  <thead>\n",
       "    <tr style=\"text-align: right;\">\n",
       "      <th></th>\n",
       "      <th>idx</th>\n",
       "      <th>id</th>\n",
       "      <th>currency</th>\n",
       "      <th>mref</th>\n",
       "      <th>transactionCode</th>\n",
       "      <th>payment_partner_name</th>\n",
       "      <th>payment_partner_creditorId</th>\n",
       "      <th>payment_partner_Iban</th>\n",
       "      <th>payment_partner_bic</th>\n",
       "      <th>bookingDate</th>\n",
       "      <th>purpose</th>\n",
       "      <th>tags</th>\n",
       "      <th>amount</th>\n",
       "      <th>userId</th>\n",
       "    </tr>\n",
       "  </thead>\n",
       "  <tbody>\n",
       "    <tr>\n",
       "      <th>1</th>\n",
       "      <td>1</td>\n",
       "      <td>9f158a2d630637e3b73ac4200039fc0785f12205ecd939...</td>\n",
       "      <td>EUR</td>\n",
       "      <td>NaN</td>\n",
       "      <td>999</td>\n",
       "      <td>&lt;&lt;PP_NAME=ab25627f0022499b0d37259f87b791bba77a...</td>\n",
       "      <td>NaN</td>\n",
       "      <td>&lt;&lt;PP_IBAN=d23e8edce1c3b7fe4deace094ab9c0bb1b81...</td>\n",
       "      <td>NaN</td>\n",
       "      <td>1534294861</td>\n",
       "      <td>Kartenzahlung &lt;&lt;FIRST_NAME=ab25627f0022499b0d3...</td>\n",
       "      <td>card_payment,spending,mobility,car,car_fuel,fi...</td>\n",
       "      <td>-47.99</td>\n",
       "      <td>bankloginid.60502bc3c395af21ec04b3e8</td>\n",
       "    </tr>\n",
       "    <tr>\n",
       "      <th>168795</th>\n",
       "      <td>8128774</td>\n",
       "      <td>1a94e2d0deb30368b33ab7fda7a4fa48f9bbc871e52d2f...</td>\n",
       "      <td>EUR</td>\n",
       "      <td>&lt;&lt;MREF=1dd656a9eb4bf440fe866e0837d5f2a404db667...</td>\n",
       "      <td>999</td>\n",
       "      <td>Telekom Deutschland GmbH</td>\n",
       "      <td>DE93ZZZ00000078611</td>\n",
       "      <td>DE75370800400232113001</td>\n",
       "      <td>NaN</td>\n",
       "      <td>1578358861</td>\n",
       "      <td>Telekom Deutschland GmbH Festnetz Vertragskont...</td>\n",
       "      <td>direct_debit,SEPA_recurrent,spending,telecommu...</td>\n",
       "      <td>-39.99</td>\n",
       "      <td>bankloginid.60502bc3c395af21ec04b3e8</td>\n",
       "    </tr>\n",
       "    <tr>\n",
       "      <th>332835</th>\n",
       "      <td>8276794</td>\n",
       "      <td>9b2b10f9bb9f177be15292ee6de64a1b6746f1eeff7cbd...</td>\n",
       "      <td>EUR</td>\n",
       "      <td>NaN</td>\n",
       "      <td>999</td>\n",
       "      <td>&lt;&lt;PP_NAME=f9a93395fc2086c4fdfeb60f228a87f0e24f...</td>\n",
       "      <td>NaN</td>\n",
       "      <td>&lt;&lt;PP_IBAN=f55ee11d163c5a5c2622b6407306b1bdd2ed...</td>\n",
       "      <td>NaN</td>\n",
       "      <td>1538874061</td>\n",
       "      <td>Kartenzahlung EDEKA, Musterstadt//Musterstadt/...</td>\n",
       "      <td>card_payment,spending,household,household_groc...</td>\n",
       "      <td>-72.88</td>\n",
       "      <td>bankloginid.60502bc3c395af21ec04b3e8</td>\n",
       "    </tr>\n",
       "    <tr>\n",
       "      <th>409914</th>\n",
       "      <td>8345863</td>\n",
       "      <td>85b10c1f64c79a83b1f7c2a743b142f77d411789b551e8...</td>\n",
       "      <td>EUR</td>\n",
       "      <td>&lt;&lt;MREF=81ceb63db1e212c953cee248eb4003099902a43...</td>\n",
       "      <td>999</td>\n",
       "      <td>H+M 000 SAGT VIELEN DANK</td>\n",
       "      <td>DE95ZZZ00001678202</td>\n",
       "      <td>DE62200400000244890003</td>\n",
       "      <td>NaN</td>\n",
       "      <td>1550970061</td>\n",
       "      <td>H+M 000 SAGT VIELEN DANK ELV11&lt;&lt;[0-9]{3}&gt;&gt;111 ...</td>\n",
       "      <td>card_payment,direct_debit,SEPA_one-off,spendin...</td>\n",
       "      <td>-0.1</td>\n",
       "      <td>bankloginid.60502bc3c395af21ec04b3e8</td>\n",
       "    </tr>\n",
       "    <tr>\n",
       "      <th>452621</th>\n",
       "      <td>8388565</td>\n",
       "      <td>546fa5c11b722c7dec2a2fb571c1ddd8b0ad10ca1e83cd...</td>\n",
       "      <td>EUR</td>\n",
       "      <td>NaN</td>\n",
       "      <td>999</td>\n",
       "      <td>DANKE, IHR LIDL</td>\n",
       "      <td>NaN</td>\n",
       "      <td>DE61300500000008000119</td>\n",
       "      <td>NaN</td>\n",
       "      <td>1560819661</td>\n",
       "      <td>Kartenzahlung DANKE, IHR LIDL//Musterstadt/DE ...</td>\n",
       "      <td>card_payment,spending,household,household_groc...</td>\n",
       "      <td>-36.41</td>\n",
       "      <td>bankloginid.60502bc3c395af21ec04b3e8</td>\n",
       "    </tr>\n",
       "    <tr>\n",
       "      <th>...</th>\n",
       "      <td>...</td>\n",
       "      <td>...</td>\n",
       "      <td>...</td>\n",
       "      <td>...</td>\n",
       "      <td>...</td>\n",
       "      <td>...</td>\n",
       "      <td>...</td>\n",
       "      <td>...</td>\n",
       "      <td>...</td>\n",
       "      <td>...</td>\n",
       "      <td>...</td>\n",
       "      <td>...</td>\n",
       "      <td>...</td>\n",
       "      <td>...</td>\n",
       "    </tr>\n",
       "    <tr>\n",
       "      <th>66133826</th>\n",
       "      <td>7791032</td>\n",
       "      <td>6eeaf693cd2d16896c3be250940da06d4d585c52547f3b...</td>\n",
       "      <td>EUR</td>\n",
       "      <td>NaN</td>\n",
       "      <td>999</td>\n",
       "      <td>&lt;&lt;PP_NAME=ab25627f0022499b0d37259f87b791bba77a...</td>\n",
       "      <td>NaN</td>\n",
       "      <td>&lt;&lt;PP_IBAN=d23e8edce1c3b7fe4deace094ab9c0bb1b81...</td>\n",
       "      <td>NaN</td>\n",
       "      <td>1606266061</td>\n",
       "      <td>Kartenzahlung &lt;&lt;FIRST_NAME=ab25627f0022499b0d3...</td>\n",
       "      <td>card_payment,spending,mobility,car,car_fuel,fi...</td>\n",
       "      <td>-47.99</td>\n",
       "      <td>bankloginid.60502bc3c395af21ec04b3e8</td>\n",
       "    </tr>\n",
       "    <tr>\n",
       "      <th>66150586</th>\n",
       "      <td>7807790</td>\n",
       "      <td>8e3ce1038589d611ebfdabba8461d85d540ab903203977...</td>\n",
       "      <td>EUR</td>\n",
       "      <td>&lt;&lt;MREF=81ceb63db1e212c953cee248eb4003099902a43...</td>\n",
       "      <td>999</td>\n",
       "      <td>H+M 000 SAGT VIELEN DANK</td>\n",
       "      <td>DE95ZZZ00001678202</td>\n",
       "      <td>DE62200400000244890003</td>\n",
       "      <td>NaN</td>\n",
       "      <td>1590282061</td>\n",
       "      <td>H+M 000 SAGT VIELEN DANK ELV11&lt;&lt;[0-9]{3}&gt;&gt;111 ...</td>\n",
       "      <td>card_payment,direct_debit,SEPA_one-off,spendin...</td>\n",
       "      <td>-0.1</td>\n",
       "      <td>bankloginid.60502bc3c395af21ec04b3e8</td>\n",
       "    </tr>\n",
       "    <tr>\n",
       "      <th>66240348</th>\n",
       "      <td>7889540</td>\n",
       "      <td>61a46742ee5085a94c46b30d4b01f09d093ac9c45a4ffc...</td>\n",
       "      <td>EUR</td>\n",
       "      <td>&lt;&lt;MREF=da67a9c42c606029f28dae7c381d593a37edbfb...</td>\n",
       "      <td>999</td>\n",
       "      <td>PayPal (Europe) S.a.r.l. et Cie., S .C.A.</td>\n",
       "      <td>LU96ZZZ0000000000000000058</td>\n",
       "      <td>DE88500700100175526303</td>\n",
       "      <td>NaN</td>\n",
       "      <td>1582765261</td>\n",
       "      <td>PayPal (Europe) S.a.r.l. et Cie., S .C.A. PP.8...</td>\n",
       "      <td>direct_debit,paypal_debit,paypal,SEPA_recurren...</td>\n",
       "      <td>-9.99</td>\n",
       "      <td>bankloginid.60502bc3c395af21ec04b3e8</td>\n",
       "    </tr>\n",
       "    <tr>\n",
       "      <th>66284500</th>\n",
       "      <td>7925687</td>\n",
       "      <td>d9cd7550ce2c80be0f51c8bfab2b5ba28409022b8d8e9b...</td>\n",
       "      <td>EUR</td>\n",
       "      <td>NaN</td>\n",
       "      <td>999</td>\n",
       "      <td>DANKE, IHR LIDL</td>\n",
       "      <td>NaN</td>\n",
       "      <td>DE61300500000008000119</td>\n",
       "      <td>NaN</td>\n",
       "      <td>1540256461</td>\n",
       "      <td>Kartenzahlung DANKE, IHR LIDL//Musterstadt/DE ...</td>\n",
       "      <td>card_payment,spending,household,household_groc...</td>\n",
       "      <td>-36.41</td>\n",
       "      <td>bankloginid.60502bc3c395af21ec04b3e8</td>\n",
       "    </tr>\n",
       "    <tr>\n",
       "      <th>66317861</th>\n",
       "      <td>7959044</td>\n",
       "      <td>ea2b3c77dafefd2b24812612615c7c1db5d532a10b83bc...</td>\n",
       "      <td>EUR</td>\n",
       "      <td>&lt;&lt;MREF=3d5ede6a8fd5ea300db34bf4481bd0d4eaa115d...</td>\n",
       "      <td>999</td>\n",
       "      <td>Debeka Kranken-Versicherung-Verein a.G</td>\n",
       "      <td>DE54DBK00000054093</td>\n",
       "      <td>NaN</td>\n",
       "      <td>NaN</td>\n",
       "      <td>1554339661</td>\n",
       "      <td>Debeka Kranken-Versicherung-Verein a.G 11&lt;&lt;[0-...</td>\n",
       "      <td>direct_debit,SEPA_recurrent,spending,insurance...</td>\n",
       "      <td>-412.16</td>\n",
       "      <td>bankloginid.60502bc3c395af21ec04b3e8</td>\n",
       "    </tr>\n",
       "  </tbody>\n",
       "</table>\n",
       "<p>1222 rows × 14 columns</p>\n",
       "</div>"
      ],
      "text/plain": [
       "              idx                                                 id currency  \\\n",
       "1               1  9f158a2d630637e3b73ac4200039fc0785f12205ecd939...      EUR   \n",
       "168795    8128774  1a94e2d0deb30368b33ab7fda7a4fa48f9bbc871e52d2f...      EUR   \n",
       "332835    8276794  9b2b10f9bb9f177be15292ee6de64a1b6746f1eeff7cbd...      EUR   \n",
       "409914    8345863  85b10c1f64c79a83b1f7c2a743b142f77d411789b551e8...      EUR   \n",
       "452621    8388565  546fa5c11b722c7dec2a2fb571c1ddd8b0ad10ca1e83cd...      EUR   \n",
       "...           ...                                                ...      ...   \n",
       "66133826  7791032  6eeaf693cd2d16896c3be250940da06d4d585c52547f3b...      EUR   \n",
       "66150586  7807790  8e3ce1038589d611ebfdabba8461d85d540ab903203977...      EUR   \n",
       "66240348  7889540  61a46742ee5085a94c46b30d4b01f09d093ac9c45a4ffc...      EUR   \n",
       "66284500  7925687  d9cd7550ce2c80be0f51c8bfab2b5ba28409022b8d8e9b...      EUR   \n",
       "66317861  7959044  ea2b3c77dafefd2b24812612615c7c1db5d532a10b83bc...      EUR   \n",
       "\n",
       "                                                       mref transactionCode  \\\n",
       "1                                                       NaN             999   \n",
       "168795    <<MREF=1dd656a9eb4bf440fe866e0837d5f2a404db667...             999   \n",
       "332835                                                  NaN             999   \n",
       "409914    <<MREF=81ceb63db1e212c953cee248eb4003099902a43...             999   \n",
       "452621                                                  NaN             999   \n",
       "...                                                     ...             ...   \n",
       "66133826                                                NaN             999   \n",
       "66150586  <<MREF=81ceb63db1e212c953cee248eb4003099902a43...             999   \n",
       "66240348  <<MREF=da67a9c42c606029f28dae7c381d593a37edbfb...             999   \n",
       "66284500                                                NaN             999   \n",
       "66317861  <<MREF=3d5ede6a8fd5ea300db34bf4481bd0d4eaa115d...             999   \n",
       "\n",
       "                                       payment_partner_name  \\\n",
       "1         <<PP_NAME=ab25627f0022499b0d37259f87b791bba77a...   \n",
       "168795                             Telekom Deutschland GmbH   \n",
       "332835    <<PP_NAME=f9a93395fc2086c4fdfeb60f228a87f0e24f...   \n",
       "409914                             H+M 000 SAGT VIELEN DANK   \n",
       "452621                                      DANKE, IHR LIDL   \n",
       "...                                                     ...   \n",
       "66133826  <<PP_NAME=ab25627f0022499b0d37259f87b791bba77a...   \n",
       "66150586                           H+M 000 SAGT VIELEN DANK   \n",
       "66240348          PayPal (Europe) S.a.r.l. et Cie., S .C.A.   \n",
       "66284500                                    DANKE, IHR LIDL   \n",
       "66317861             Debeka Kranken-Versicherung-Verein a.G   \n",
       "\n",
       "          payment_partner_creditorId  \\\n",
       "1                                NaN   \n",
       "168795            DE93ZZZ00000078611   \n",
       "332835                           NaN   \n",
       "409914            DE95ZZZ00001678202   \n",
       "452621                           NaN   \n",
       "...                              ...   \n",
       "66133826                         NaN   \n",
       "66150586          DE95ZZZ00001678202   \n",
       "66240348  LU96ZZZ0000000000000000058   \n",
       "66284500                         NaN   \n",
       "66317861          DE54DBK00000054093   \n",
       "\n",
       "                                       payment_partner_Iban  \\\n",
       "1         <<PP_IBAN=d23e8edce1c3b7fe4deace094ab9c0bb1b81...   \n",
       "168795                               DE75370800400232113001   \n",
       "332835    <<PP_IBAN=f55ee11d163c5a5c2622b6407306b1bdd2ed...   \n",
       "409914                               DE62200400000244890003   \n",
       "452621                               DE61300500000008000119   \n",
       "...                                                     ...   \n",
       "66133826  <<PP_IBAN=d23e8edce1c3b7fe4deace094ab9c0bb1b81...   \n",
       "66150586                             DE62200400000244890003   \n",
       "66240348                             DE88500700100175526303   \n",
       "66284500                             DE61300500000008000119   \n",
       "66317861                                                NaN   \n",
       "\n",
       "         payment_partner_bic bookingDate  \\\n",
       "1                        NaN  1534294861   \n",
       "168795                   NaN  1578358861   \n",
       "332835                   NaN  1538874061   \n",
       "409914                   NaN  1550970061   \n",
       "452621                   NaN  1560819661   \n",
       "...                      ...         ...   \n",
       "66133826                 NaN  1606266061   \n",
       "66150586                 NaN  1590282061   \n",
       "66240348                 NaN  1582765261   \n",
       "66284500                 NaN  1540256461   \n",
       "66317861                 NaN  1554339661   \n",
       "\n",
       "                                                    purpose  \\\n",
       "1         Kartenzahlung <<FIRST_NAME=ab25627f0022499b0d3...   \n",
       "168795    Telekom Deutschland GmbH Festnetz Vertragskont...   \n",
       "332835    Kartenzahlung EDEKA, Musterstadt//Musterstadt/...   \n",
       "409914    H+M 000 SAGT VIELEN DANK ELV11<<[0-9]{3}>>111 ...   \n",
       "452621    Kartenzahlung DANKE, IHR LIDL//Musterstadt/DE ...   \n",
       "...                                                     ...   \n",
       "66133826  Kartenzahlung <<FIRST_NAME=ab25627f0022499b0d3...   \n",
       "66150586  H+M 000 SAGT VIELEN DANK ELV11<<[0-9]{3}>>111 ...   \n",
       "66240348  PayPal (Europe) S.a.r.l. et Cie., S .C.A. PP.8...   \n",
       "66284500  Kartenzahlung DANKE, IHR LIDL//Musterstadt/DE ...   \n",
       "66317861  Debeka Kranken-Versicherung-Verein a.G 11<<[0-...   \n",
       "\n",
       "                                                       tags   amount  \\\n",
       "1         card_payment,spending,mobility,car,car_fuel,fi...   -47.99   \n",
       "168795    direct_debit,SEPA_recurrent,spending,telecommu...   -39.99   \n",
       "332835    card_payment,spending,household,household_groc...   -72.88   \n",
       "409914    card_payment,direct_debit,SEPA_one-off,spendin...     -0.1   \n",
       "452621    card_payment,spending,household,household_groc...   -36.41   \n",
       "...                                                     ...      ...   \n",
       "66133826  card_payment,spending,mobility,car,car_fuel,fi...   -47.99   \n",
       "66150586  card_payment,direct_debit,SEPA_one-off,spendin...     -0.1   \n",
       "66240348  direct_debit,paypal_debit,paypal,SEPA_recurren...    -9.99   \n",
       "66284500  card_payment,spending,household,household_groc...   -36.41   \n",
       "66317861  direct_debit,SEPA_recurrent,spending,insurance...  -412.16   \n",
       "\n",
       "                                        userId  \n",
       "1         bankloginid.60502bc3c395af21ec04b3e8  \n",
       "168795    bankloginid.60502bc3c395af21ec04b3e8  \n",
       "332835    bankloginid.60502bc3c395af21ec04b3e8  \n",
       "409914    bankloginid.60502bc3c395af21ec04b3e8  \n",
       "452621    bankloginid.60502bc3c395af21ec04b3e8  \n",
       "...                                        ...  \n",
       "66133826  bankloginid.60502bc3c395af21ec04b3e8  \n",
       "66150586  bankloginid.60502bc3c395af21ec04b3e8  \n",
       "66240348  bankloginid.60502bc3c395af21ec04b3e8  \n",
       "66284500  bankloginid.60502bc3c395af21ec04b3e8  \n",
       "66317861  bankloginid.60502bc3c395af21ec04b3e8  \n",
       "\n",
       "[1222 rows x 14 columns]"
      ]
     },
     "execution_count": 33,
     "metadata": {},
     "output_type": "execute_result"
    }
   ],
   "source": [
    "data[data.userId==\"bankloginid.60502bc3c395af21ec04b3e8\"]"
   ]
  },
  {
   "cell_type": "code",
   "execution_count": 34,
   "metadata": {},
   "outputs": [
    {
     "data": {
      "text/html": [
       "<div>\n",
       "<style scoped>\n",
       "    .dataframe tbody tr th:only-of-type {\n",
       "        vertical-align: middle;\n",
       "    }\n",
       "\n",
       "    .dataframe tbody tr th {\n",
       "        vertical-align: top;\n",
       "    }\n",
       "\n",
       "    .dataframe thead th {\n",
       "        text-align: right;\n",
       "    }\n",
       "</style>\n",
       "<table border=\"1\" class=\"dataframe\">\n",
       "  <thead>\n",
       "    <tr style=\"text-align: right;\">\n",
       "      <th></th>\n",
       "      <th>idx</th>\n",
       "      <th>id</th>\n",
       "      <th>currency</th>\n",
       "      <th>mref</th>\n",
       "      <th>transactionCode</th>\n",
       "      <th>payment_partner_name</th>\n",
       "      <th>payment_partner_creditorId</th>\n",
       "      <th>payment_partner_Iban</th>\n",
       "      <th>payment_partner_bic</th>\n",
       "      <th>bookingDate</th>\n",
       "      <th>purpose</th>\n",
       "      <th>tags</th>\n",
       "      <th>amount</th>\n",
       "      <th>userId</th>\n",
       "    </tr>\n",
       "  </thead>\n",
       "  <tbody>\n",
       "  </tbody>\n",
       "</table>\n",
       "</div>"
      ],
      "text/plain": [
       "Empty DataFrame\n",
       "Columns: [idx, id, currency, mref, transactionCode, payment_partner_name, payment_partner_creditorId, payment_partner_Iban, payment_partner_bic, bookingDate, purpose, tags, amount, userId]\n",
       "Index: []"
      ]
     },
     "execution_count": 34,
     "metadata": {},
     "output_type": "execute_result"
    }
   ],
   "source": [
    "data[data.userId==\"60502bc3c395af21ec04b3e8\"]"
   ]
  },
  {
   "cell_type": "code",
   "execution_count": null,
   "metadata": {},
   "outputs": [],
   "source": [
    "data.value_counts()"
   ]
  },
  {
   "cell_type": "code",
   "execution_count": null,
   "metadata": {},
   "outputs": [],
   "source": [
    "data[\"userId\"].value_counts()"
   ]
  },
  {
   "cell_type": "code",
   "execution_count": 12,
   "metadata": {},
   "outputs": [],
   "source": [
    "data = data[['bookingDate', 'purpose','tags', 'amount', 'userId']]"
   ]
  },
  {
   "cell_type": "code",
   "execution_count": 13,
   "metadata": {},
   "outputs": [
    {
     "data": {
      "text/html": [
       "<div>\n",
       "<style scoped>\n",
       "    .dataframe tbody tr th:only-of-type {\n",
       "        vertical-align: middle;\n",
       "    }\n",
       "\n",
       "    .dataframe tbody tr th {\n",
       "        vertical-align: top;\n",
       "    }\n",
       "\n",
       "    .dataframe thead th {\n",
       "        text-align: right;\n",
       "    }\n",
       "</style>\n",
       "<table border=\"1\" class=\"dataframe\">\n",
       "  <thead>\n",
       "    <tr style=\"text-align: right;\">\n",
       "      <th></th>\n",
       "      <th>bookingDate</th>\n",
       "      <th>purpose</th>\n",
       "      <th>tags</th>\n",
       "      <th>amount</th>\n",
       "      <th>userId</th>\n",
       "    </tr>\n",
       "  </thead>\n",
       "  <tbody>\n",
       "    <tr>\n",
       "      <th>0</th>\n",
       "      <td>1534294861</td>\n",
       "      <td>Kartenzahlung &lt;&lt;FIRST_NAME=ab25627f0022499b0d3...</td>\n",
       "      <td>card_payment,spending,mobility,car,car_fuel,fi...</td>\n",
       "      <td>-47.99</td>\n",
       "      <td>bankloginid.60502bc3c395af21ec04b3e8</td>\n",
       "    </tr>\n",
       "    <tr>\n",
       "      <th>1</th>\n",
       "      <td>1607040000</td>\n",
       "      <td>STAR TST/BREMEN/DE 03.12.2020 um 21:04:18 Uhr ...</td>\n",
       "      <td>card_payment,spending,mobility,car,car_fuel,fi...</td>\n",
       "      <td>-49.37</td>\n",
       "      <td>60267b72afc354135d9bbd73</td>\n",
       "    </tr>\n",
       "    <tr>\n",
       "      <th>2</th>\n",
       "      <td>1571184000</td>\n",
       "      <td>2019-10-15T19:51 Debitk.0 2021-12 KARTENZAHLUNG</td>\n",
       "      <td>card_payment,spending,variabel</td>\n",
       "      <td>-17.15</td>\n",
       "      <td>6094f2f2fcac366879c1a810</td>\n",
       "    </tr>\n",
       "    <tr>\n",
       "      <th>3</th>\n",
       "      <td>1557705600</td>\n",
       "      <td>2019-05-11T14:39 Debitk.2 2022-12 KARTENZAHLUNG</td>\n",
       "      <td>card_payment,spending,variabel</td>\n",
       "      <td>-106.96</td>\n",
       "      <td>60bf47a86b6759357385e6d9</td>\n",
       "    </tr>\n",
       "    <tr>\n",
       "      <th>4</th>\n",
       "      <td>1622592000</td>\n",
       "      <td>KARTENZAHLUNG 2021-06-01T15:45 Debitk.2 2024-1...</td>\n",
       "      <td>card_payment,spending,household,household_fash...</td>\n",
       "      <td>-41.96</td>\n",
       "      <td>60be2816b92620310a5e5ca0</td>\n",
       "    </tr>\n",
       "    <tr>\n",
       "      <th>...</th>\n",
       "      <td>...</td>\n",
       "      <td>...</td>\n",
       "      <td>...</td>\n",
       "      <td>...</td>\n",
       "      <td>...</td>\n",
       "    </tr>\n",
       "    <tr>\n",
       "      <th>7995</th>\n",
       "      <td>1597017600</td>\n",
       "      <td>Nachzahlung Kutzner GUTSCHR. UEBERWEISUNG</td>\n",
       "      <td>earning,fix,recurring</td>\n",
       "      <td>191.84</td>\n",
       "      <td>617268782801a40992a19344</td>\n",
       "    </tr>\n",
       "    <tr>\n",
       "      <th>7996</th>\n",
       "      <td>1531270861</td>\n",
       "      <td>AUSZUBILDENDEN-GEHALT LAUFENDER MONAT</td>\n",
       "      <td>earning,salary,salary_apprenticeship,fix,recur...</td>\n",
       "      <td>1182.61</td>\n",
       "      <td>bankloginid.608d333bfb57e64ef03dfc74</td>\n",
       "    </tr>\n",
       "    <tr>\n",
       "      <th>7997</th>\n",
       "      <td>1595203200</td>\n",
       "      <td>oilwashed hose 46 GUTSCHR. UEBERWEISUNG</td>\n",
       "      <td>earning,variabel</td>\n",
       "      <td>14.99</td>\n",
       "      <td>60faa328044fcd15644316e9</td>\n",
       "    </tr>\n",
       "    <tr>\n",
       "      <th>7998</th>\n",
       "      <td>1592352000</td>\n",
       "      <td>&lt;&lt;STREET_PREFIX=4cc88562e7ad43ddf45746bfb5f0cb...</td>\n",
       "      <td>earning,variabel</td>\n",
       "      <td>31.20</td>\n",
       "      <td>60c85b14c58d270fa375b821</td>\n",
       "    </tr>\n",
       "    <tr>\n",
       "      <th>7999</th>\n",
       "      <td>1608681600</td>\n",
       "      <td>GUTSCHR. SCHECKEINREICHUNG EREF: SCHECK-NR. 00...</td>\n",
       "      <td>earning,fix-variabel</td>\n",
       "      <td>0.25</td>\n",
       "      <td>60b25915da934e1061dcc716</td>\n",
       "    </tr>\n",
       "  </tbody>\n",
       "</table>\n",
       "<p>8000 rows × 5 columns</p>\n",
       "</div>"
      ],
      "text/plain": [
       "      bookingDate                                            purpose  \\\n",
       "0      1534294861  Kartenzahlung <<FIRST_NAME=ab25627f0022499b0d3...   \n",
       "1      1607040000  STAR TST/BREMEN/DE 03.12.2020 um 21:04:18 Uhr ...   \n",
       "2      1571184000    2019-10-15T19:51 Debitk.0 2021-12 KARTENZAHLUNG   \n",
       "3      1557705600    2019-05-11T14:39 Debitk.2 2022-12 KARTENZAHLUNG   \n",
       "4      1622592000  KARTENZAHLUNG 2021-06-01T15:45 Debitk.2 2024-1...   \n",
       "...           ...                                                ...   \n",
       "7995   1597017600          Nachzahlung Kutzner GUTSCHR. UEBERWEISUNG   \n",
       "7996   1531270861              AUSZUBILDENDEN-GEHALT LAUFENDER MONAT   \n",
       "7997   1595203200            oilwashed hose 46 GUTSCHR. UEBERWEISUNG   \n",
       "7998   1592352000  <<STREET_PREFIX=4cc88562e7ad43ddf45746bfb5f0cb...   \n",
       "7999   1608681600  GUTSCHR. SCHECKEINREICHUNG EREF: SCHECK-NR. 00...   \n",
       "\n",
       "                                                   tags   amount  \\\n",
       "0     card_payment,spending,mobility,car,car_fuel,fi...   -47.99   \n",
       "1     card_payment,spending,mobility,car,car_fuel,fi...   -49.37   \n",
       "2                        card_payment,spending,variabel   -17.15   \n",
       "3                        card_payment,spending,variabel  -106.96   \n",
       "4     card_payment,spending,household,household_fash...   -41.96   \n",
       "...                                                 ...      ...   \n",
       "7995                              earning,fix,recurring   191.84   \n",
       "7996  earning,salary,salary_apprenticeship,fix,recur...  1182.61   \n",
       "7997                                   earning,variabel    14.99   \n",
       "7998                                   earning,variabel    31.20   \n",
       "7999                               earning,fix-variabel     0.25   \n",
       "\n",
       "                                    userId  \n",
       "0     bankloginid.60502bc3c395af21ec04b3e8  \n",
       "1                 60267b72afc354135d9bbd73  \n",
       "2                 6094f2f2fcac366879c1a810  \n",
       "3                 60bf47a86b6759357385e6d9  \n",
       "4                 60be2816b92620310a5e5ca0  \n",
       "...                                    ...  \n",
       "7995              617268782801a40992a19344  \n",
       "7996  bankloginid.608d333bfb57e64ef03dfc74  \n",
       "7997              60faa328044fcd15644316e9  \n",
       "7998              60c85b14c58d270fa375b821  \n",
       "7999              60b25915da934e1061dcc716  \n",
       "\n",
       "[8000 rows x 5 columns]"
      ]
     },
     "execution_count": 13,
     "metadata": {},
     "output_type": "execute_result"
    }
   ],
   "source": [
    "data"
   ]
  },
  {
   "cell_type": "code",
   "execution_count": 23,
   "metadata": {},
   "outputs": [
    {
     "data": {
      "text/plain": [
       "8d713472-c899-4b4d-9ef2-4038f4b970b5                                    37\n",
       "<<USER_ID=10e97a34e98819cf5fc317247bcda9439d9f836b9760470d88a1b553>>    23\n",
       "04e22d4d-7d1b-4282-ae66-da806005f521                                    23\n",
       "23f4d7b8-9253-4ed5-a4e4-acd4260320d0                                    21\n",
       "f820d474-2abd-4a15-8d75-0a1b1e013b10                                    14\n",
       "                                                                        ..\n",
       "61759fa342e7d1501a5c2884                                                 1\n",
       "61161cbcef4b29164055938e                                                 1\n",
       "611b53862dd3c3401102c295                                                 1\n",
       "611293ea0a8662223d370c7c                                                 1\n",
       "60b25915da934e1061dcc716                                                 1\n",
       "Name: userId, Length: 6922, dtype: int64"
      ]
     },
     "execution_count": 23,
     "metadata": {},
     "output_type": "execute_result"
    }
   ],
   "source": [
    "data.userId.value_counts()"
   ]
  },
  {
   "cell_type": "code",
   "execution_count": 24,
   "metadata": {},
   "outputs": [
    {
     "data": {
      "text/plain": [
       "bookingDate      0\n",
       "purpose        106\n",
       "tags            29\n",
       "amount           0\n",
       "userId           0\n",
       "dtype: int64"
      ]
     },
     "execution_count": 24,
     "metadata": {},
     "output_type": "execute_result"
    }
   ],
   "source": [
    "data.isna().sum()"
   ]
  }
 ],
 "metadata": {
  "kernelspec": {
   "display_name": "Python 3 (ipykernel)",
   "language": "python",
   "name": "python3"
  },
  "language_info": {
   "codemirror_mode": {
    "name": "ipython",
    "version": 3
   },
   "file_extension": ".py",
   "mimetype": "text/x-python",
   "name": "python",
   "nbconvert_exporter": "python",
   "pygments_lexer": "ipython3",
   "version": "3.8.5"
  },
  "toc-autonumbering": false
 },
 "nbformat": 4,
 "nbformat_minor": 4
}
